{
 "cells": [
  {
   "cell_type": "code",
   "execution_count": 1,
   "id": "70f0e3dd",
   "metadata": {},
   "outputs": [],
   "source": [
    "import pandas as pd\n",
    "import numpy as np\n",
    "import os"
   ]
  },
  {
   "cell_type": "code",
   "execution_count": 20,
   "id": "d901aeae",
   "metadata": {},
   "outputs": [
    {
     "name": "stderr",
     "output_type": "stream",
     "text": [
      "/var/folders/_f/sc03zbpx4wnbdctrkv1pq2lh0000gn/T/ipykernel_32650/3042633106.py:1: DtypeWarning: Columns (38) have mixed types. Specify dtype option on import or set low_memory=False.\n",
      "  full_data = pd.read_csv('./data/COVID19MEXICO2020.csv')\n"
     ]
    }
   ],
   "source": [
    "full_data = pd.read_csv('./data/COVID19MEXICO2020.csv')"
   ]
  },
  {
   "cell_type": "code",
   "execution_count": 19,
   "id": "a7b8bd94",
   "metadata": {},
   "outputs": [
    {
     "data": {
      "application/vnd.microsoft.datawrangler.viewer.v0+json": {
       "columns": [
        {
         "name": "index",
         "rawType": "int64",
         "type": "integer"
        },
        {
         "name": "MEDICAL_UNIT_STATE",
         "rawType": "int64",
         "type": "integer"
        },
        {
         "name": "UPDATE_DATE",
         "rawType": "object",
         "type": "string"
        },
        {
         "name": "RECORD_ID",
         "rawType": "object",
         "type": "string"
        },
        {
         "name": "SEX",
         "rawType": "int64",
         "type": "integer"
        },
        {
         "name": "PATIENT_TYPE",
         "rawType": "int64",
         "type": "integer"
        },
        {
         "name": "ADMISSION_DATE",
         "rawType": "object",
         "type": "string"
        },
        {
         "name": "SYMPTOM_ONSET_DATE",
         "rawType": "object",
         "type": "string"
        },
        {
         "name": "DEATH_DATE",
         "rawType": "object",
         "type": "string"
        },
        {
         "name": "INTUBATED",
         "rawType": "int64",
         "type": "integer"
        },
        {
         "name": "PNEUMONIA",
         "rawType": "int64",
         "type": "integer"
        },
        {
         "name": "AGE",
         "rawType": "int64",
         "type": "integer"
        },
        {
         "name": "PREGNANCY",
         "rawType": "int64",
         "type": "integer"
        },
        {
         "name": "DIABETES",
         "rawType": "int64",
         "type": "integer"
        },
        {
         "name": "COPD",
         "rawType": "int64",
         "type": "integer"
        },
        {
         "name": "ASTHMA",
         "rawType": "int64",
         "type": "integer"
        },
        {
         "name": "IMMUNOSUPPRESSED",
         "rawType": "int64",
         "type": "integer"
        },
        {
         "name": "HYPERTENSION",
         "rawType": "int64",
         "type": "integer"
        },
        {
         "name": "OTHER_COMORBIDITY",
         "rawType": "int64",
         "type": "integer"
        },
        {
         "name": "CARDIOVASCULAR_DISEASE",
         "rawType": "int64",
         "type": "integer"
        },
        {
         "name": "OBESITY",
         "rawType": "int64",
         "type": "integer"
        },
        {
         "name": "CHRONIC_KIDNEY_DISEASE",
         "rawType": "int64",
         "type": "integer"
        },
        {
         "name": "SMOKING",
         "rawType": "int64",
         "type": "integer"
        },
        {
         "name": "FINAL_CLASSIFICATION",
         "rawType": "int64",
         "type": "integer"
        },
        {
         "name": "ICU",
         "rawType": "int64",
         "type": "integer"
        }
       ],
       "conversionMethod": "pd.DataFrame",
       "ref": "f3fbf210-d819-4076-bdd6-5b46b1a4a8a9",
       "rows": [
        [
         "0",
         "24",
         "2021-10-31",
         "z4d6fe",
         "1",
         "1",
         "2020-12-06",
         "2020-11-30",
         "9999-99-99",
         "97",
         "2",
         "55",
         "2",
         "1",
         "2",
         "2",
         "2",
         "2",
         "2",
         "2",
         "2",
         "2",
         "2",
         "3",
         "97"
        ],
        [
         "1",
         "24",
         "2021-10-31",
         "z2a3cf",
         "2",
         "1",
         "2020-02-20",
         "2020-02-18",
         "9999-99-99",
         "97",
         "2",
         "59",
         "97",
         "2",
         "2",
         "2",
         "2",
         "2",
         "2",
         "2",
         "2",
         "2",
         "2",
         "6",
         "97"
        ],
        [
         "2",
         "14",
         "2021-10-31",
         "z1e370",
         "1",
         "1",
         "2020-04-22",
         "2020-04-18",
         "9999-99-99",
         "97",
         "2",
         "42",
         "2",
         "2",
         "2",
         "1",
         "2",
         "2",
         "2",
         "2",
         "2",
         "2",
         "2",
         "7",
         "97"
        ],
        [
         "3",
         "8",
         "2021-10-31",
         "z3bf80",
         "2",
         "1",
         "2020-07-28",
         "2020-07-20",
         "9999-99-99",
         "97",
         "2",
         "35",
         "97",
         "2",
         "2",
         "2",
         "2",
         "2",
         "2",
         "2",
         "2",
         "2",
         "2",
         "3",
         "97"
        ],
        [
         "4",
         "9",
         "2021-10-31",
         "zz7067",
         "2",
         "1",
         "2020-08-18",
         "2020-08-17",
         "9999-99-99",
         "97",
         "2",
         "51",
         "97",
         "2",
         "2",
         "2",
         "2",
         "1",
         "2",
         "2",
         "2",
         "2",
         "2",
         "7",
         "97"
        ]
       ],
       "shape": {
        "columns": 24,
        "rows": 5
       }
      },
      "text/html": [
       "<div>\n",
       "<style scoped>\n",
       "    .dataframe tbody tr th:only-of-type {\n",
       "        vertical-align: middle;\n",
       "    }\n",
       "\n",
       "    .dataframe tbody tr th {\n",
       "        vertical-align: top;\n",
       "    }\n",
       "\n",
       "    .dataframe thead th {\n",
       "        text-align: right;\n",
       "    }\n",
       "</style>\n",
       "<table border=\"1\" class=\"dataframe\">\n",
       "  <thead>\n",
       "    <tr style=\"text-align: right;\">\n",
       "      <th></th>\n",
       "      <th>MEDICAL_UNIT_STATE</th>\n",
       "      <th>UPDATE_DATE</th>\n",
       "      <th>RECORD_ID</th>\n",
       "      <th>SEX</th>\n",
       "      <th>PATIENT_TYPE</th>\n",
       "      <th>ADMISSION_DATE</th>\n",
       "      <th>SYMPTOM_ONSET_DATE</th>\n",
       "      <th>DEATH_DATE</th>\n",
       "      <th>INTUBATED</th>\n",
       "      <th>PNEUMONIA</th>\n",
       "      <th>...</th>\n",
       "      <th>ASTHMA</th>\n",
       "      <th>IMMUNOSUPPRESSED</th>\n",
       "      <th>HYPERTENSION</th>\n",
       "      <th>OTHER_COMORBIDITY</th>\n",
       "      <th>CARDIOVASCULAR_DISEASE</th>\n",
       "      <th>OBESITY</th>\n",
       "      <th>CHRONIC_KIDNEY_DISEASE</th>\n",
       "      <th>SMOKING</th>\n",
       "      <th>FINAL_CLASSIFICATION</th>\n",
       "      <th>ICU</th>\n",
       "    </tr>\n",
       "  </thead>\n",
       "  <tbody>\n",
       "    <tr>\n",
       "      <th>0</th>\n",
       "      <td>24</td>\n",
       "      <td>2021-10-31</td>\n",
       "      <td>z4d6fe</td>\n",
       "      <td>1</td>\n",
       "      <td>1</td>\n",
       "      <td>2020-12-06</td>\n",
       "      <td>2020-11-30</td>\n",
       "      <td>9999-99-99</td>\n",
       "      <td>97</td>\n",
       "      <td>2</td>\n",
       "      <td>...</td>\n",
       "      <td>2</td>\n",
       "      <td>2</td>\n",
       "      <td>2</td>\n",
       "      <td>2</td>\n",
       "      <td>2</td>\n",
       "      <td>2</td>\n",
       "      <td>2</td>\n",
       "      <td>2</td>\n",
       "      <td>3</td>\n",
       "      <td>97</td>\n",
       "    </tr>\n",
       "    <tr>\n",
       "      <th>1</th>\n",
       "      <td>24</td>\n",
       "      <td>2021-10-31</td>\n",
       "      <td>z2a3cf</td>\n",
       "      <td>2</td>\n",
       "      <td>1</td>\n",
       "      <td>2020-02-20</td>\n",
       "      <td>2020-02-18</td>\n",
       "      <td>9999-99-99</td>\n",
       "      <td>97</td>\n",
       "      <td>2</td>\n",
       "      <td>...</td>\n",
       "      <td>2</td>\n",
       "      <td>2</td>\n",
       "      <td>2</td>\n",
       "      <td>2</td>\n",
       "      <td>2</td>\n",
       "      <td>2</td>\n",
       "      <td>2</td>\n",
       "      <td>2</td>\n",
       "      <td>6</td>\n",
       "      <td>97</td>\n",
       "    </tr>\n",
       "    <tr>\n",
       "      <th>2</th>\n",
       "      <td>14</td>\n",
       "      <td>2021-10-31</td>\n",
       "      <td>z1e370</td>\n",
       "      <td>1</td>\n",
       "      <td>1</td>\n",
       "      <td>2020-04-22</td>\n",
       "      <td>2020-04-18</td>\n",
       "      <td>9999-99-99</td>\n",
       "      <td>97</td>\n",
       "      <td>2</td>\n",
       "      <td>...</td>\n",
       "      <td>1</td>\n",
       "      <td>2</td>\n",
       "      <td>2</td>\n",
       "      <td>2</td>\n",
       "      <td>2</td>\n",
       "      <td>2</td>\n",
       "      <td>2</td>\n",
       "      <td>2</td>\n",
       "      <td>7</td>\n",
       "      <td>97</td>\n",
       "    </tr>\n",
       "    <tr>\n",
       "      <th>3</th>\n",
       "      <td>8</td>\n",
       "      <td>2021-10-31</td>\n",
       "      <td>z3bf80</td>\n",
       "      <td>2</td>\n",
       "      <td>1</td>\n",
       "      <td>2020-07-28</td>\n",
       "      <td>2020-07-20</td>\n",
       "      <td>9999-99-99</td>\n",
       "      <td>97</td>\n",
       "      <td>2</td>\n",
       "      <td>...</td>\n",
       "      <td>2</td>\n",
       "      <td>2</td>\n",
       "      <td>2</td>\n",
       "      <td>2</td>\n",
       "      <td>2</td>\n",
       "      <td>2</td>\n",
       "      <td>2</td>\n",
       "      <td>2</td>\n",
       "      <td>3</td>\n",
       "      <td>97</td>\n",
       "    </tr>\n",
       "    <tr>\n",
       "      <th>4</th>\n",
       "      <td>9</td>\n",
       "      <td>2021-10-31</td>\n",
       "      <td>zz7067</td>\n",
       "      <td>2</td>\n",
       "      <td>1</td>\n",
       "      <td>2020-08-18</td>\n",
       "      <td>2020-08-17</td>\n",
       "      <td>9999-99-99</td>\n",
       "      <td>97</td>\n",
       "      <td>2</td>\n",
       "      <td>...</td>\n",
       "      <td>2</td>\n",
       "      <td>2</td>\n",
       "      <td>1</td>\n",
       "      <td>2</td>\n",
       "      <td>2</td>\n",
       "      <td>2</td>\n",
       "      <td>2</td>\n",
       "      <td>2</td>\n",
       "      <td>7</td>\n",
       "      <td>97</td>\n",
       "    </tr>\n",
       "  </tbody>\n",
       "</table>\n",
       "<p>5 rows × 24 columns</p>\n",
       "</div>"
      ],
      "text/plain": [
       "   MEDICAL_UNIT_STATE UPDATE_DATE RECORD_ID  SEX  PATIENT_TYPE ADMISSION_DATE  \\\n",
       "0                  24  2021-10-31    z4d6fe    1             1     2020-12-06   \n",
       "1                  24  2021-10-31    z2a3cf    2             1     2020-02-20   \n",
       "2                  14  2021-10-31    z1e370    1             1     2020-04-22   \n",
       "3                   8  2021-10-31    z3bf80    2             1     2020-07-28   \n",
       "4                   9  2021-10-31    zz7067    2             1     2020-08-18   \n",
       "\n",
       "  SYMPTOM_ONSET_DATE  DEATH_DATE  INTUBATED  PNEUMONIA  ...  ASTHMA  \\\n",
       "0         2020-11-30  9999-99-99         97          2  ...       2   \n",
       "1         2020-02-18  9999-99-99         97          2  ...       2   \n",
       "2         2020-04-18  9999-99-99         97          2  ...       1   \n",
       "3         2020-07-20  9999-99-99         97          2  ...       2   \n",
       "4         2020-08-17  9999-99-99         97          2  ...       2   \n",
       "\n",
       "   IMMUNOSUPPRESSED  HYPERTENSION  OTHER_COMORBIDITY  CARDIOVASCULAR_DISEASE  \\\n",
       "0                 2             2                  2                       2   \n",
       "1                 2             2                  2                       2   \n",
       "2                 2             2                  2                       2   \n",
       "3                 2             2                  2                       2   \n",
       "4                 2             1                  2                       2   \n",
       "\n",
       "   OBESITY  CHRONIC_KIDNEY_DISEASE  SMOKING  FINAL_CLASSIFICATION  ICU  \n",
       "0        2                       2        2                     3   97  \n",
       "1        2                       2        2                     6   97  \n",
       "2        2                       2        2                     7   97  \n",
       "3        2                       2        2                     3   97  \n",
       "4        2                       2        2                     7   97  \n",
       "\n",
       "[5 rows x 24 columns]"
      ]
     },
     "execution_count": 19,
     "metadata": {},
     "output_type": "execute_result"
    }
   ],
   "source": [
    "full_data.head()"
   ]
  },
  {
   "cell_type": "code",
   "execution_count": 21,
   "id": "a9b320f7",
   "metadata": {},
   "outputs": [
    {
     "data": {
      "text/plain": [
       "Index(['FECHA_ACTUALIZACION', 'ID_REGISTRO', 'ORIGEN', 'SECTOR', 'ENTIDAD_UM',\n",
       "       'SEXO', 'ENTIDAD_NAC', 'ENTIDAD_RES', 'MUNICIPIO_RES', 'TIPO_PACIENTE',\n",
       "       'FECHA_INGRESO', 'FECHA_SINTOMAS', 'FECHA_DEF', 'INTUBADO', 'NEUMONIA',\n",
       "       'EDAD', 'NACIONALIDAD', 'EMBARAZO', 'HABLA_LENGUA_INDIG', 'INDIGENA',\n",
       "       'DIABETES', 'EPOC', 'ASMA', 'INMUSUPR', 'HIPERTENSION', 'OTRA_COM',\n",
       "       'CARDIOVASCULAR', 'OBESIDAD', 'RENAL_CRONICA', 'TABAQUISMO',\n",
       "       'OTRO_CASO', 'TOMA_MUESTRA_LAB', 'RESULTADO_LAB',\n",
       "       'TOMA_MUESTRA_ANTIGENO', 'RESULTADO_ANTIGENO', 'CLASIFICACION_FINAL',\n",
       "       'MIGRANTE', 'PAIS_NACIONALIDAD', 'PAIS_ORIGEN', 'UCI'],\n",
       "      dtype='object')"
      ]
     },
     "execution_count": 21,
     "metadata": {},
     "output_type": "execute_result"
    }
   ],
   "source": [
    "full_data.columns"
   ]
  },
  {
   "cell_type": "code",
   "execution_count": 16,
   "id": "7ccd7039",
   "metadata": {},
   "outputs": [
    {
     "data": {
      "text/plain": [
       "(3868396, 40)"
      ]
     },
     "execution_count": 16,
     "metadata": {},
     "output_type": "execute_result"
    }
   ],
   "source": [
    "full_data.shape"
   ]
  },
  {
   "cell_type": "code",
   "execution_count": 22,
   "id": "ef65f63a",
   "metadata": {},
   "outputs": [],
   "source": [
    "## Renaming to english\n",
    "columns_to_keep = [\n",
    "    'ENTIDAD_UM',\n",
    "    'FECHA_ACTUALIZACION',\n",
    "    'ID_REGISTRO',\n",
    "    'SEXO',\n",
    "    'TIPO_PACIENTE',\n",
    "    'FECHA_INGRESO',\n",
    "    'FECHA_SINTOMAS',\n",
    "    'FECHA_DEF',\n",
    "    'INTUBADO',\n",
    "    'NEUMONIA',\n",
    "    'EDAD',\n",
    "    'EMBARAZO',\n",
    "    'DIABETES',\n",
    "    'EPOC',\n",
    "    'ASMA',\n",
    "    'INMUSUPR',\n",
    "    'HIPERTENSION',\n",
    "    'OTRA_COM',\n",
    "    'CARDIOVASCULAR',\n",
    "    'OBESIDAD',\n",
    "    'RENAL_CRONICA',\n",
    "    'TABAQUISMO',\n",
    "    'CLASIFICACION_FINAL',\n",
    "    'UCI'\n",
    "    ]\n",
    "\n",
    "full_data = full_data[columns_to_keep]\n",
    "\n",
    "column_translation = {\n",
    "    'FECHA_ACTUALIZACION': 'UPDATE_DATE',\n",
    "    'ID_REGISTRO': 'RECORD_ID',\n",
    "    'ORIGEN': 'SOURCE',\n",
    "    'SECTOR': 'HEALTH_SECTOR',\n",
    "    'ENTIDAD_UM': 'MEDICAL_UNIT_STATE',\n",
    "    'SEXO': 'SEX',\n",
    "    'ENTIDAD_NAC': 'BIRTH_STATE',\n",
    "    'ENTIDAD_RES': 'RESIDENCE_STATE',\n",
    "    'MUNICIPIO_RES': 'RESIDENCE_MUNICIPALITY',\n",
    "    'TIPO_PACIENTE': 'PATIENT_TYPE',\n",
    "    'FECHA_INGRESO': 'ADMISSION_DATE',\n",
    "    'FECHA_SINTOMAS': 'SYMPTOM_ONSET_DATE',\n",
    "    'FECHA_DEF': 'DEATH_DATE',\n",
    "    'INTUBADO': 'INTUBATED',\n",
    "    'NEUMONIA': 'PNEUMONIA',\n",
    "    'EDAD': 'AGE',\n",
    "    'NACIONALIDAD': 'NATIONALITY',\n",
    "    'EMBARAZO': 'PREGNANCY',\n",
    "    'HABLA_LENGUA_INDIG': 'SPEAKS_INDIGENOUS_LANGUAGE',\n",
    "    'INDIGENA': 'INDIGENOUS',\n",
    "    'DIABETES': 'DIABETES',\n",
    "    'EPOC': 'COPD',\n",
    "    'ASMA': 'ASTHMA',\n",
    "    'INMUSUPR': 'IMMUNOSUPPRESSED',\n",
    "    'HIPERTENSION': 'HYPERTENSION',\n",
    "    'OTRA_COM': 'OTHER_COMORBIDITY',\n",
    "    'CARDIOVASCULAR': 'CARDIOVASCULAR_DISEASE',\n",
    "    'OBESIDAD': 'OBESITY',\n",
    "    'RENAL_CRONICA': 'CHRONIC_KIDNEY_DISEASE',\n",
    "    'TABAQUISMO': 'SMOKING',\n",
    "    'OTRO_CASO': 'OTHER_CASE_CONTACT',\n",
    "    'TOMA_MUESTRA_LAB': 'LAB_SAMPLE_TAKEN',\n",
    "    'RESULTADO_LAB': 'LAB_RESULT',\n",
    "    'TOMA_MUESTRA_ANTIGENO': 'ANTIGEN_SAMPLE_TAKEN',\n",
    "    'RESULTADO_ANTIGENO': 'ANTIGEN_RESULT',\n",
    "    'CLASIFICACION_FINAL': 'FINAL_CLASSIFICATION',\n",
    "    'MIGRANTE': 'MIGRANT',\n",
    "    'PAIS_NACIONALIDAD': 'NATIONALITY_COUNTRY',\n",
    "    'PAIS_ORIGEN': 'ORIGIN_COUNTRY',\n",
    "    'UCI': 'ICU'\n",
    "}\n",
    "\n",
    "full_data.rename(columns=column_translation, inplace=True)"
   ]
  },
  {
   "cell_type": "code",
   "execution_count": 23,
   "id": "4f4cecf0",
   "metadata": {},
   "outputs": [],
   "source": [
    "covid_data = full_data[full_data[\"FINAL_CLASSIFICATION\"] == 3]"
   ]
  },
  {
   "cell_type": "code",
   "execution_count": 24,
   "id": "f5736002",
   "metadata": {},
   "outputs": [
    {
     "data": {
      "text/plain": [
       "(1479749, 24)"
      ]
     },
     "execution_count": 24,
     "metadata": {},
     "output_type": "execute_result"
    }
   ],
   "source": [
    "covid_data.shape"
   ]
  },
  {
   "cell_type": "code",
   "execution_count": 25,
   "id": "83ab5a79",
   "metadata": {},
   "outputs": [
    {
     "data": {
      "text/plain": [
       "Index(['MEDICAL_UNIT_STATE', 'UPDATE_DATE', 'RECORD_ID', 'SEX', 'PATIENT_TYPE',\n",
       "       'ADMISSION_DATE', 'SYMPTOM_ONSET_DATE', 'DEATH_DATE', 'INTUBATED',\n",
       "       'PNEUMONIA', 'AGE', 'PREGNANCY', 'DIABETES', 'COPD', 'ASTHMA',\n",
       "       'IMMUNOSUPPRESSED', 'HYPERTENSION', 'OTHER_COMORBIDITY',\n",
       "       'CARDIOVASCULAR_DISEASE', 'OBESITY', 'CHRONIC_KIDNEY_DISEASE',\n",
       "       'SMOKING', 'FINAL_CLASSIFICATION', 'ICU'],\n",
       "      dtype='object')"
      ]
     },
     "execution_count": 25,
     "metadata": {},
     "output_type": "execute_result"
    }
   ],
   "source": [
    "covid_data.columns"
   ]
  },
  {
   "cell_type": "code",
   "execution_count": 26,
   "id": "1611a735",
   "metadata": {},
   "outputs": [
    {
     "name": "stdout",
     "output_type": "stream",
     "text": [
      "Column: MEDICAL_UNIT_STATE has 1425503 NANS\n",
      "Column: UPDATE_DATE has 1479749 NANS\n",
      "Column: RECORD_ID has 1479749 NANS\n",
      "Column: SEX has 0 NANS\n",
      "Column: PATIENT_TYPE has 0 NANS\n",
      "Column: ADMISSION_DATE has 1479749 NANS\n",
      "Column: SYMPTOM_ONSET_DATE has 1479749 NANS\n",
      "Column: DEATH_DATE has 1479749 NANS\n",
      "Column: INTUBATED has 1181319 NANS\n",
      "Column: PNEUMONIA has 3 NANS\n",
      "Column: AGE has 1476996 NANS\n",
      "Column: PREGNANCY has 751945 NANS\n",
      "Column: DIABETES has 4200 NANS\n",
      "Column: COPD has 3794 NANS\n",
      "Column: ASTHMA has 3738 NANS\n",
      "Column: IMMUNOSUPPRESSED has 3893 NANS\n",
      "Column: HYPERTENSION has 3924 NANS\n",
      "Column: OTHER_COMORBIDITY has 6964 NANS\n",
      "Column: CARDIOVASCULAR_DISEASE has 3837 NANS\n",
      "Column: OBESITY has 3736 NANS\n",
      "Column: CHRONIC_KIDNEY_DISEASE has 3778 NANS\n",
      "Column: SMOKING has 3985 NANS\n",
      "Column: FINAL_CLASSIFICATION has 1479749 NANS\n",
      "Column: ICU has 1181327 NANS\n"
     ]
    }
   ],
   "source": [
    "for column in covid_data.columns:\n",
    "    nons = covid_data[(covid_data[column] != 1) & (covid_data[column] != 2)]\n",
    "    print(f\"Column: {column} has {nons.shape[0]} NANS\")"
   ]
  },
  {
   "cell_type": "markdown",
   "id": "4a70fd29",
   "metadata": {},
   "source": [
    "We cant really work with Intubated, pregnancy, and ICU classified cases.\n"
   ]
  },
  {
   "cell_type": "code",
   "execution_count": 27,
   "id": "9a3f5f31",
   "metadata": {},
   "outputs": [
    {
     "data": {
      "text/plain": [
       "MEDICAL_UNIT_STATE\n",
       "9     398436\n",
       "15     95726\n",
       "11     87474\n",
       "19     87462\n",
       "14     56237\n",
       "5      52920\n",
       "21     52659\n",
       "27     45466\n",
       "30     43420\n",
       "24     42965\n",
       "26     42962\n",
       "28     42468\n",
       "8      37182\n",
       "22     36330\n",
       "2      36073\n",
       "16     35416\n",
       "20     29129\n",
       "25     27196\n",
       "31     26766\n",
       "12     26346\n",
       "10     26212\n",
       "13     25000\n",
       "32     21635\n",
       "3      18388\n",
       "1      18173\n",
       "23     15815\n",
       "17     10741\n",
       "29     10639\n",
       "18      7943\n",
       "6       7932\n",
       "4       7392\n",
       "7       7246\n",
       "Name: count, dtype: int64"
      ]
     },
     "execution_count": 27,
     "metadata": {},
     "output_type": "execute_result"
    }
   ],
   "source": [
    "covid_data[\"MEDICAL_UNIT_STATE\"].value_counts()"
   ]
  },
  {
   "cell_type": "code",
   "execution_count": null,
   "id": "80415a42",
   "metadata": {},
   "outputs": [
    {
     "data": {
      "text/plain": [
       "(87462, 24)"
      ]
     },
     "execution_count": 89,
     "metadata": {},
     "output_type": "execute_result"
    }
   ],
   "source": [
    "covid_data[covid_data[\"MEDICAL_UNIT_STATE\"] == 19].shape"
   ]
  },
  {
   "cell_type": "code",
   "execution_count": null,
   "id": "a50224c8",
   "metadata": {},
   "outputs": [],
   "source": [
    "covid_data[covid_data[\"MEDICAL_UNIT_STATE\"] == 19].shape"
   ]
  },
  {
   "cell_type": "code",
   "execution_count": 28,
   "id": "257501fb",
   "metadata": {},
   "outputs": [],
   "source": [
    "## Filters\n",
    "#covid_data_death = covid_data[covid_data[\"DEATH_DATE\"] != \"9999-99-99\"]\n",
    "covid_data = covid_data[covid_data[\"AGE\"] != 99]\n",
    "covid_data = covid_data[covid_data[\"PATIENT_TYPE\"] != 99]\n",
    "## set hospitalized and ambulatory as columns of 0s and 1s\n",
    "covid_data[\"FEMALE\"] = np.where(covid_data[\"SEX\"] == 1, 1, 0)\n",
    "covid_data[\"MALE\"] = np.where(covid_data[\"SEX\"] == 2, 1, 0)\n",
    "\n",
    "covid_data[\"HOSPITALIZED\"] = np.where(covid_data[\"PATIENT_TYPE\"] == 2, 1, 0)\n",
    "covid_data[\"AMBULATORY\"] = np.where(covid_data[\"PATIENT_TYPE\"] == 1, 1, 0)\n",
    "\n",
    "\n"
   ]
  },
  {
   "cell_type": "code",
   "execution_count": 29,
   "id": "b1a4164f",
   "metadata": {},
   "outputs": [
    {
     "data": {
      "text/plain": [
       "(87455, 28)"
      ]
     },
     "execution_count": 29,
     "metadata": {},
     "output_type": "execute_result"
    }
   ],
   "source": [
    "covid_data[covid_data[\"MEDICAL_UNIT_STATE\"] == 19].shape"
   ]
  },
  {
   "cell_type": "code",
   "execution_count": 35,
   "id": "2b080d91",
   "metadata": {},
   "outputs": [],
   "source": [
    "covid_data.to_csv(\"./data/full_data.csv\")"
   ]
  },
  {
   "cell_type": "code",
   "execution_count": 32,
   "id": "b7495f51",
   "metadata": {},
   "outputs": [
    {
     "data": {
      "text/plain": [
       "(1479639, 27)"
      ]
     },
     "execution_count": 32,
     "metadata": {},
     "output_type": "execute_result"
    }
   ],
   "source": [
    "covid_data.shape"
   ]
  },
  {
   "cell_type": "markdown",
   "id": "27e2f03a",
   "metadata": {},
   "source": [
    "Dictionaries\n",
    "##TODO generar diccionarios de lo que quieren decir las cosas en los datos"
   ]
  },
  {
   "cell_type": "code",
   "execution_count": 32,
   "id": "f3e30f31",
   "metadata": {},
   "outputs": [
    {
     "data": {
      "application/vnd.microsoft.datawrangler.viewer.v0+json": {
       "columns": [
        {
         "name": "AGE",
         "rawType": "int64",
         "type": "integer"
        },
        {
         "name": "HOSPITALIZED",
         "rawType": "int64",
         "type": "integer"
        },
        {
         "name": "AMBULATORY",
         "rawType": "int64",
         "type": "integer"
        },
        {
         "name": "TOTAL_CASES",
         "rawType": "int64",
         "type": "integer"
        }
       ],
       "conversionMethod": "pd.DataFrame",
       "ref": "ca7743be-0dfc-4024-b980-f2acefba42eb",
       "rows": [
        [
         "0",
         "1174",
         "1503",
         "2677"
        ],
        [
         "1",
         "333",
         "1230",
         "1563"
        ],
        [
         "2",
         "182",
         "1008",
         "1190"
        ],
        [
         "3",
         "151",
         "958",
         "1109"
        ],
        [
         "4",
         "132",
         "1054",
         "1186"
        ],
        [
         "5",
         "114",
         "1165",
         "1279"
        ],
        [
         "6",
         "118",
         "1346",
         "1464"
        ],
        [
         "7",
         "128",
         "1428",
         "1556"
        ],
        [
         "8",
         "113",
         "1665",
         "1778"
        ],
        [
         "9",
         "103",
         "1882",
         "1985"
        ],
        [
         "10",
         "119",
         "2119",
         "2238"
        ],
        [
         "11",
         "135",
         "2425",
         "2560"
        ],
        [
         "12",
         "134",
         "2864",
         "2998"
        ],
        [
         "13",
         "171",
         "3551",
         "3722"
        ],
        [
         "14",
         "165",
         "3926",
         "4091"
        ],
        [
         "15",
         "186",
         "4753",
         "4939"
        ],
        [
         "16",
         "212",
         "5524",
         "5736"
        ],
        [
         "17",
         "270",
         "6514",
         "6784"
        ],
        [
         "18",
         "278",
         "8387",
         "8665"
        ],
        [
         "19",
         "338",
         "11166",
         "11504"
        ],
        [
         "20",
         "493",
         "13864",
         "14357"
        ],
        [
         "21",
         "585",
         "15459",
         "16044"
        ],
        [
         "22",
         "638",
         "18093",
         "18731"
        ],
        [
         "23",
         "763",
         "21712",
         "22475"
        ],
        [
         "24",
         "927",
         "24427",
         "25354"
        ],
        [
         "25",
         "1149",
         "27114",
         "28263"
        ],
        [
         "26",
         "1322",
         "29152",
         "30474"
        ],
        [
         "27",
         "1576",
         "30233",
         "31809"
        ],
        [
         "28",
         "1626",
         "30985",
         "32611"
        ],
        [
         "29",
         "1778",
         "31062",
         "32840"
        ],
        [
         "30",
         "2005",
         "32144",
         "34149"
        ],
        [
         "31",
         "2090",
         "30874",
         "32964"
        ],
        [
         "32",
         "2140",
         "30240",
         "32380"
        ],
        [
         "33",
         "2312",
         "29850",
         "32162"
        ],
        [
         "34",
         "2536",
         "29937",
         "32473"
        ],
        [
         "35",
         "2759",
         "29503",
         "32262"
        ],
        [
         "36",
         "2742",
         "29269",
         "32011"
        ],
        [
         "37",
         "2990",
         "29384",
         "32374"
        ],
        [
         "38",
         "3147",
         "28927",
         "32074"
        ],
        [
         "39",
         "3307",
         "27837",
         "31144"
        ],
        [
         "40",
         "3619",
         "27791",
         "31410"
        ],
        [
         "41",
         "3691",
         "25870",
         "29561"
        ],
        [
         "42",
         "3930",
         "25782",
         "29712"
        ],
        [
         "43",
         "4316",
         "26213",
         "30529"
        ],
        [
         "44",
         "4621",
         "25596",
         "30217"
        ],
        [
         "45",
         "5123",
         "26242",
         "31365"
        ],
        [
         "46",
         "5414",
         "26676",
         "32090"
        ],
        [
         "47",
         "5625",
         "25937",
         "31562"
        ],
        [
         "48",
         "5900",
         "25300",
         "31200"
        ],
        [
         "49",
         "6006",
         "23928",
         "29934"
        ]
       ],
       "shape": {
        "columns": 3,
        "rows": 118
       }
      },
      "text/html": [
       "<div>\n",
       "<style scoped>\n",
       "    .dataframe tbody tr th:only-of-type {\n",
       "        vertical-align: middle;\n",
       "    }\n",
       "\n",
       "    .dataframe tbody tr th {\n",
       "        vertical-align: top;\n",
       "    }\n",
       "\n",
       "    .dataframe thead th {\n",
       "        text-align: right;\n",
       "    }\n",
       "</style>\n",
       "<table border=\"1\" class=\"dataframe\">\n",
       "  <thead>\n",
       "    <tr style=\"text-align: right;\">\n",
       "      <th></th>\n",
       "      <th>HOSPITALIZED</th>\n",
       "      <th>AMBULATORY</th>\n",
       "      <th>TOTAL_CASES</th>\n",
       "    </tr>\n",
       "    <tr>\n",
       "      <th>AGE</th>\n",
       "      <th></th>\n",
       "      <th></th>\n",
       "      <th></th>\n",
       "    </tr>\n",
       "  </thead>\n",
       "  <tbody>\n",
       "    <tr>\n",
       "      <th>0</th>\n",
       "      <td>1174</td>\n",
       "      <td>1503</td>\n",
       "      <td>2677</td>\n",
       "    </tr>\n",
       "    <tr>\n",
       "      <th>1</th>\n",
       "      <td>333</td>\n",
       "      <td>1230</td>\n",
       "      <td>1563</td>\n",
       "    </tr>\n",
       "    <tr>\n",
       "      <th>2</th>\n",
       "      <td>182</td>\n",
       "      <td>1008</td>\n",
       "      <td>1190</td>\n",
       "    </tr>\n",
       "    <tr>\n",
       "      <th>3</th>\n",
       "      <td>151</td>\n",
       "      <td>958</td>\n",
       "      <td>1109</td>\n",
       "    </tr>\n",
       "    <tr>\n",
       "      <th>4</th>\n",
       "      <td>132</td>\n",
       "      <td>1054</td>\n",
       "      <td>1186</td>\n",
       "    </tr>\n",
       "    <tr>\n",
       "      <th>...</th>\n",
       "      <td>...</td>\n",
       "      <td>...</td>\n",
       "      <td>...</td>\n",
       "    </tr>\n",
       "    <tr>\n",
       "      <th>115</th>\n",
       "      <td>0</td>\n",
       "      <td>4</td>\n",
       "      <td>4</td>\n",
       "    </tr>\n",
       "    <tr>\n",
       "      <th>116</th>\n",
       "      <td>1</td>\n",
       "      <td>2</td>\n",
       "      <td>3</td>\n",
       "    </tr>\n",
       "    <tr>\n",
       "      <th>117</th>\n",
       "      <td>0</td>\n",
       "      <td>1</td>\n",
       "      <td>1</td>\n",
       "    </tr>\n",
       "    <tr>\n",
       "      <th>118</th>\n",
       "      <td>0</td>\n",
       "      <td>6</td>\n",
       "      <td>6</td>\n",
       "    </tr>\n",
       "    <tr>\n",
       "      <th>120</th>\n",
       "      <td>0</td>\n",
       "      <td>4</td>\n",
       "      <td>4</td>\n",
       "    </tr>\n",
       "  </tbody>\n",
       "</table>\n",
       "<p>118 rows × 3 columns</p>\n",
       "</div>"
      ],
      "text/plain": [
       "     HOSPITALIZED  AMBULATORY  TOTAL_CASES\n",
       "AGE                                       \n",
       "0            1174        1503         2677\n",
       "1             333        1230         1563\n",
       "2             182        1008         1190\n",
       "3             151         958         1109\n",
       "4             132        1054         1186\n",
       "..            ...         ...          ...\n",
       "115             0           4            4\n",
       "116             1           2            3\n",
       "117             0           1            1\n",
       "118             0           6            6\n",
       "120             0           4            4\n",
       "\n",
       "[118 rows x 3 columns]"
      ]
     },
     "execution_count": 32,
     "metadata": {},
     "output_type": "execute_result"
    }
   ],
   "source": [
    "total_cases_per_age = covid_data.groupby(\"AGE\")[[\"HOSPITALIZED\", \"AMBULATORY\"]].sum()\n",
    "total_cases_per_age[\"TOTAL_CASES\"] = total_cases_per_age[\"HOSPITALIZED\"] + total_cases_per_age[\"AMBULATORY\"]\n",
    "total_cases_per_age"
   ]
  },
  {
   "cell_type": "code",
   "execution_count": 36,
   "id": "f2b0b0fd",
   "metadata": {},
   "outputs": [
    {
     "data": {
      "application/vnd.microsoft.datawrangler.viewer.v0+json": {
       "columns": [
        {
         "name": "AGE",
         "rawType": "int64",
         "type": "integer"
        },
        {
         "name": "num",
         "rawType": "int64",
         "type": "integer"
        }
       ],
       "conversionMethod": "pd.DataFrame",
       "ref": "b4e8735f-5c18-4173-ac3c-f8b767e6fac0",
       "rows": [
        [
         "0",
         "2677"
        ],
        [
         "1",
         "1563"
        ],
        [
         "2",
         "1190"
        ],
        [
         "3",
         "1109"
        ],
        [
         "4",
         "1186"
        ],
        [
         "5",
         "1279"
        ],
        [
         "6",
         "1464"
        ],
        [
         "7",
         "1556"
        ],
        [
         "8",
         "1778"
        ],
        [
         "9",
         "1985"
        ],
        [
         "10",
         "2238"
        ],
        [
         "11",
         "2560"
        ],
        [
         "12",
         "2998"
        ],
        [
         "13",
         "3722"
        ],
        [
         "14",
         "4091"
        ],
        [
         "15",
         "4939"
        ],
        [
         "16",
         "5736"
        ],
        [
         "17",
         "6784"
        ],
        [
         "18",
         "8665"
        ],
        [
         "19",
         "11504"
        ],
        [
         "20",
         "14357"
        ],
        [
         "21",
         "16044"
        ],
        [
         "22",
         "18731"
        ],
        [
         "23",
         "22475"
        ],
        [
         "24",
         "25354"
        ],
        [
         "25",
         "28263"
        ],
        [
         "26",
         "30474"
        ],
        [
         "27",
         "31809"
        ],
        [
         "28",
         "32611"
        ],
        [
         "29",
         "32840"
        ],
        [
         "30",
         "34149"
        ],
        [
         "31",
         "32964"
        ],
        [
         "32",
         "32380"
        ],
        [
         "33",
         "32162"
        ],
        [
         "34",
         "32473"
        ],
        [
         "35",
         "32262"
        ],
        [
         "36",
         "32011"
        ],
        [
         "37",
         "32374"
        ],
        [
         "38",
         "32074"
        ],
        [
         "39",
         "31144"
        ],
        [
         "40",
         "31410"
        ],
        [
         "41",
         "29561"
        ],
        [
         "42",
         "29712"
        ],
        [
         "43",
         "30529"
        ],
        [
         "44",
         "30217"
        ],
        [
         "45",
         "31365"
        ],
        [
         "46",
         "32090"
        ],
        [
         "47",
         "31562"
        ],
        [
         "48",
         "31200"
        ],
        [
         "49",
         "29934"
        ]
       ],
       "shape": {
        "columns": 1,
        "rows": 118
       }
      },
      "text/html": [
       "<div>\n",
       "<style scoped>\n",
       "    .dataframe tbody tr th:only-of-type {\n",
       "        vertical-align: middle;\n",
       "    }\n",
       "\n",
       "    .dataframe tbody tr th {\n",
       "        vertical-align: top;\n",
       "    }\n",
       "\n",
       "    .dataframe thead th {\n",
       "        text-align: right;\n",
       "    }\n",
       "</style>\n",
       "<table border=\"1\" class=\"dataframe\">\n",
       "  <thead>\n",
       "    <tr style=\"text-align: right;\">\n",
       "      <th></th>\n",
       "      <th>num</th>\n",
       "    </tr>\n",
       "    <tr>\n",
       "      <th>AGE</th>\n",
       "      <th></th>\n",
       "    </tr>\n",
       "  </thead>\n",
       "  <tbody>\n",
       "    <tr>\n",
       "      <th>0</th>\n",
       "      <td>2677</td>\n",
       "    </tr>\n",
       "    <tr>\n",
       "      <th>1</th>\n",
       "      <td>1563</td>\n",
       "    </tr>\n",
       "    <tr>\n",
       "      <th>2</th>\n",
       "      <td>1190</td>\n",
       "    </tr>\n",
       "    <tr>\n",
       "      <th>3</th>\n",
       "      <td>1109</td>\n",
       "    </tr>\n",
       "    <tr>\n",
       "      <th>4</th>\n",
       "      <td>1186</td>\n",
       "    </tr>\n",
       "    <tr>\n",
       "      <th>...</th>\n",
       "      <td>...</td>\n",
       "    </tr>\n",
       "    <tr>\n",
       "      <th>115</th>\n",
       "      <td>4</td>\n",
       "    </tr>\n",
       "    <tr>\n",
       "      <th>116</th>\n",
       "      <td>3</td>\n",
       "    </tr>\n",
       "    <tr>\n",
       "      <th>117</th>\n",
       "      <td>1</td>\n",
       "    </tr>\n",
       "    <tr>\n",
       "      <th>118</th>\n",
       "      <td>6</td>\n",
       "    </tr>\n",
       "    <tr>\n",
       "      <th>120</th>\n",
       "      <td>4</td>\n",
       "    </tr>\n",
       "  </tbody>\n",
       "</table>\n",
       "<p>118 rows × 1 columns</p>\n",
       "</div>"
      ],
      "text/plain": [
       "      num\n",
       "AGE      \n",
       "0    2677\n",
       "1    1563\n",
       "2    1190\n",
       "3    1109\n",
       "4    1186\n",
       "..    ...\n",
       "115     4\n",
       "116     3\n",
       "117     1\n",
       "118     6\n",
       "120     4\n",
       "\n",
       "[118 rows x 1 columns]"
      ]
     },
     "execution_count": 36,
     "metadata": {},
     "output_type": "execute_result"
    }
   ],
   "source": [
    "age_dist = pd.DataFrame()\n",
    "age_dist.index= total_cases_per_age.index\n",
    "age_dist[\"num\"] = total_cases_per_age[\"TOTAL_CASES\"]\n",
    "age_dist"
   ]
  },
  {
   "cell_type": "code",
   "execution_count": 37,
   "id": "57253fd7",
   "metadata": {},
   "outputs": [],
   "source": [
    "age_dist.to_csv(\"./data/total_age_distribution.csv\")"
   ]
  },
  {
   "cell_type": "markdown",
   "id": "d2dc83da",
   "metadata": {},
   "source": [
    "## Making the data work as in the paper\n"
   ]
  },
  {
   "cell_type": "code",
   "execution_count": 30,
   "id": "7083ff65",
   "metadata": {},
   "outputs": [
    {
     "data": {
      "application/vnd.microsoft.datawrangler.viewer.v0+json": {
       "columns": [
        {
         "name": "index",
         "rawType": "int64",
         "type": "integer"
        },
        {
         "name": "MEDICAL_UNIT_STATE",
         "rawType": "int64",
         "type": "integer"
        },
        {
         "name": "UPDATE_DATE",
         "rawType": "object",
         "type": "string"
        },
        {
         "name": "RECORD_ID",
         "rawType": "object",
         "type": "string"
        },
        {
         "name": "SEX",
         "rawType": "int64",
         "type": "integer"
        },
        {
         "name": "PATIENT_TYPE",
         "rawType": "int64",
         "type": "integer"
        },
        {
         "name": "ADMISSION_DATE",
         "rawType": "object",
         "type": "string"
        },
        {
         "name": "SYMPTOM_ONSET_DATE",
         "rawType": "object",
         "type": "string"
        },
        {
         "name": "DEATH_DATE",
         "rawType": "object",
         "type": "string"
        },
        {
         "name": "INTUBATED",
         "rawType": "int64",
         "type": "integer"
        },
        {
         "name": "PNEUMONIA",
         "rawType": "int64",
         "type": "integer"
        },
        {
         "name": "AGE",
         "rawType": "int64",
         "type": "integer"
        },
        {
         "name": "PREGNANCY",
         "rawType": "int64",
         "type": "integer"
        },
        {
         "name": "DIABETES",
         "rawType": "int64",
         "type": "integer"
        },
        {
         "name": "COPD",
         "rawType": "int64",
         "type": "integer"
        },
        {
         "name": "ASTHMA",
         "rawType": "int64",
         "type": "integer"
        },
        {
         "name": "IMMUNOSUPPRESSED",
         "rawType": "int64",
         "type": "integer"
        },
        {
         "name": "HYPERTENSION",
         "rawType": "int64",
         "type": "integer"
        },
        {
         "name": "OTHER_COMORBIDITY",
         "rawType": "int64",
         "type": "integer"
        },
        {
         "name": "CARDIOVASCULAR_DISEASE",
         "rawType": "int64",
         "type": "integer"
        },
        {
         "name": "OBESITY",
         "rawType": "int64",
         "type": "integer"
        },
        {
         "name": "CHRONIC_KIDNEY_DISEASE",
         "rawType": "int64",
         "type": "integer"
        },
        {
         "name": "SMOKING",
         "rawType": "int64",
         "type": "integer"
        },
        {
         "name": "FINAL_CLASSIFICATION",
         "rawType": "int64",
         "type": "integer"
        },
        {
         "name": "ICU",
         "rawType": "int64",
         "type": "integer"
        },
        {
         "name": "FEMALE",
         "rawType": "int64",
         "type": "integer"
        },
        {
         "name": "MALE",
         "rawType": "int64",
         "type": "integer"
        },
        {
         "name": "HOSPITALIZED",
         "rawType": "int64",
         "type": "integer"
        },
        {
         "name": "AMBULATORY",
         "rawType": "int64",
         "type": "integer"
        }
       ],
       "conversionMethod": "pd.DataFrame",
       "ref": "44329550-4913-4c02-bb74-ef5ec4211be8",
       "rows": [
        [
         "0",
         "24",
         "2021-10-31",
         "z4d6fe",
         "1",
         "1",
         "2020-12-06",
         "2020-11-30",
         "9999-99-99",
         "97",
         "2",
         "55",
         "2",
         "1",
         "2",
         "2",
         "2",
         "2",
         "2",
         "2",
         "2",
         "2",
         "2",
         "3",
         "97",
         "1",
         "0",
         "0",
         "1"
        ],
        [
         "3",
         "8",
         "2021-10-31",
         "z3bf80",
         "2",
         "1",
         "2020-07-28",
         "2020-07-20",
         "9999-99-99",
         "97",
         "2",
         "35",
         "97",
         "2",
         "2",
         "2",
         "2",
         "2",
         "2",
         "2",
         "2",
         "2",
         "2",
         "3",
         "97",
         "0",
         "1",
         "0",
         "1"
        ],
        [
         "15",
         "31",
         "2021-10-31",
         "z54912",
         "1",
         "1",
         "2020-06-12",
         "2020-06-10",
         "9999-99-99",
         "97",
         "2",
         "56",
         "2",
         "1",
         "2",
         "2",
         "2",
         "2",
         "2",
         "2",
         "2",
         "2",
         "2",
         "3",
         "97",
         "1",
         "0",
         "0",
         "1"
        ],
        [
         "18",
         "1",
         "2021-10-31",
         "z552ac",
         "1",
         "1",
         "2020-06-02",
         "2020-05-30",
         "9999-99-99",
         "97",
         "2",
         "58",
         "2",
         "1",
         "2",
         "2",
         "2",
         "2",
         "2",
         "2",
         "2",
         "2",
         "2",
         "3",
         "97",
         "1",
         "0",
         "0",
         "1"
        ],
        [
         "20",
         "31",
         "2021-10-31",
         "z59345",
         "2",
         "1",
         "2020-07-01",
         "2020-06-30",
         "9999-99-99",
         "97",
         "2",
         "37",
         "97",
         "2",
         "2",
         "2",
         "2",
         "2",
         "2",
         "2",
         "2",
         "2",
         "2",
         "3",
         "97",
         "0",
         "1",
         "0",
         "1"
        ]
       ],
       "shape": {
        "columns": 28,
        "rows": 5
       }
      },
      "text/html": [
       "<div>\n",
       "<style scoped>\n",
       "    .dataframe tbody tr th:only-of-type {\n",
       "        vertical-align: middle;\n",
       "    }\n",
       "\n",
       "    .dataframe tbody tr th {\n",
       "        vertical-align: top;\n",
       "    }\n",
       "\n",
       "    .dataframe thead th {\n",
       "        text-align: right;\n",
       "    }\n",
       "</style>\n",
       "<table border=\"1\" class=\"dataframe\">\n",
       "  <thead>\n",
       "    <tr style=\"text-align: right;\">\n",
       "      <th></th>\n",
       "      <th>MEDICAL_UNIT_STATE</th>\n",
       "      <th>UPDATE_DATE</th>\n",
       "      <th>RECORD_ID</th>\n",
       "      <th>SEX</th>\n",
       "      <th>PATIENT_TYPE</th>\n",
       "      <th>ADMISSION_DATE</th>\n",
       "      <th>SYMPTOM_ONSET_DATE</th>\n",
       "      <th>DEATH_DATE</th>\n",
       "      <th>INTUBATED</th>\n",
       "      <th>PNEUMONIA</th>\n",
       "      <th>...</th>\n",
       "      <th>CARDIOVASCULAR_DISEASE</th>\n",
       "      <th>OBESITY</th>\n",
       "      <th>CHRONIC_KIDNEY_DISEASE</th>\n",
       "      <th>SMOKING</th>\n",
       "      <th>FINAL_CLASSIFICATION</th>\n",
       "      <th>ICU</th>\n",
       "      <th>FEMALE</th>\n",
       "      <th>MALE</th>\n",
       "      <th>HOSPITALIZED</th>\n",
       "      <th>AMBULATORY</th>\n",
       "    </tr>\n",
       "  </thead>\n",
       "  <tbody>\n",
       "    <tr>\n",
       "      <th>0</th>\n",
       "      <td>24</td>\n",
       "      <td>2021-10-31</td>\n",
       "      <td>z4d6fe</td>\n",
       "      <td>1</td>\n",
       "      <td>1</td>\n",
       "      <td>2020-12-06</td>\n",
       "      <td>2020-11-30</td>\n",
       "      <td>9999-99-99</td>\n",
       "      <td>97</td>\n",
       "      <td>2</td>\n",
       "      <td>...</td>\n",
       "      <td>2</td>\n",
       "      <td>2</td>\n",
       "      <td>2</td>\n",
       "      <td>2</td>\n",
       "      <td>3</td>\n",
       "      <td>97</td>\n",
       "      <td>1</td>\n",
       "      <td>0</td>\n",
       "      <td>0</td>\n",
       "      <td>1</td>\n",
       "    </tr>\n",
       "    <tr>\n",
       "      <th>3</th>\n",
       "      <td>8</td>\n",
       "      <td>2021-10-31</td>\n",
       "      <td>z3bf80</td>\n",
       "      <td>2</td>\n",
       "      <td>1</td>\n",
       "      <td>2020-07-28</td>\n",
       "      <td>2020-07-20</td>\n",
       "      <td>9999-99-99</td>\n",
       "      <td>97</td>\n",
       "      <td>2</td>\n",
       "      <td>...</td>\n",
       "      <td>2</td>\n",
       "      <td>2</td>\n",
       "      <td>2</td>\n",
       "      <td>2</td>\n",
       "      <td>3</td>\n",
       "      <td>97</td>\n",
       "      <td>0</td>\n",
       "      <td>1</td>\n",
       "      <td>0</td>\n",
       "      <td>1</td>\n",
       "    </tr>\n",
       "    <tr>\n",
       "      <th>15</th>\n",
       "      <td>31</td>\n",
       "      <td>2021-10-31</td>\n",
       "      <td>z54912</td>\n",
       "      <td>1</td>\n",
       "      <td>1</td>\n",
       "      <td>2020-06-12</td>\n",
       "      <td>2020-06-10</td>\n",
       "      <td>9999-99-99</td>\n",
       "      <td>97</td>\n",
       "      <td>2</td>\n",
       "      <td>...</td>\n",
       "      <td>2</td>\n",
       "      <td>2</td>\n",
       "      <td>2</td>\n",
       "      <td>2</td>\n",
       "      <td>3</td>\n",
       "      <td>97</td>\n",
       "      <td>1</td>\n",
       "      <td>0</td>\n",
       "      <td>0</td>\n",
       "      <td>1</td>\n",
       "    </tr>\n",
       "    <tr>\n",
       "      <th>18</th>\n",
       "      <td>1</td>\n",
       "      <td>2021-10-31</td>\n",
       "      <td>z552ac</td>\n",
       "      <td>1</td>\n",
       "      <td>1</td>\n",
       "      <td>2020-06-02</td>\n",
       "      <td>2020-05-30</td>\n",
       "      <td>9999-99-99</td>\n",
       "      <td>97</td>\n",
       "      <td>2</td>\n",
       "      <td>...</td>\n",
       "      <td>2</td>\n",
       "      <td>2</td>\n",
       "      <td>2</td>\n",
       "      <td>2</td>\n",
       "      <td>3</td>\n",
       "      <td>97</td>\n",
       "      <td>1</td>\n",
       "      <td>0</td>\n",
       "      <td>0</td>\n",
       "      <td>1</td>\n",
       "    </tr>\n",
       "    <tr>\n",
       "      <th>20</th>\n",
       "      <td>31</td>\n",
       "      <td>2021-10-31</td>\n",
       "      <td>z59345</td>\n",
       "      <td>2</td>\n",
       "      <td>1</td>\n",
       "      <td>2020-07-01</td>\n",
       "      <td>2020-06-30</td>\n",
       "      <td>9999-99-99</td>\n",
       "      <td>97</td>\n",
       "      <td>2</td>\n",
       "      <td>...</td>\n",
       "      <td>2</td>\n",
       "      <td>2</td>\n",
       "      <td>2</td>\n",
       "      <td>2</td>\n",
       "      <td>3</td>\n",
       "      <td>97</td>\n",
       "      <td>0</td>\n",
       "      <td>1</td>\n",
       "      <td>0</td>\n",
       "      <td>1</td>\n",
       "    </tr>\n",
       "  </tbody>\n",
       "</table>\n",
       "<p>5 rows × 28 columns</p>\n",
       "</div>"
      ],
      "text/plain": [
       "    MEDICAL_UNIT_STATE UPDATE_DATE RECORD_ID  SEX  PATIENT_TYPE  \\\n",
       "0                   24  2021-10-31    z4d6fe    1             1   \n",
       "3                    8  2021-10-31    z3bf80    2             1   \n",
       "15                  31  2021-10-31    z54912    1             1   \n",
       "18                   1  2021-10-31    z552ac    1             1   \n",
       "20                  31  2021-10-31    z59345    2             1   \n",
       "\n",
       "   ADMISSION_DATE SYMPTOM_ONSET_DATE  DEATH_DATE  INTUBATED  PNEUMONIA  ...  \\\n",
       "0      2020-12-06         2020-11-30  9999-99-99         97          2  ...   \n",
       "3      2020-07-28         2020-07-20  9999-99-99         97          2  ...   \n",
       "15     2020-06-12         2020-06-10  9999-99-99         97          2  ...   \n",
       "18     2020-06-02         2020-05-30  9999-99-99         97          2  ...   \n",
       "20     2020-07-01         2020-06-30  9999-99-99         97          2  ...   \n",
       "\n",
       "    CARDIOVASCULAR_DISEASE  OBESITY  CHRONIC_KIDNEY_DISEASE  SMOKING  \\\n",
       "0                        2        2                       2        2   \n",
       "3                        2        2                       2        2   \n",
       "15                       2        2                       2        2   \n",
       "18                       2        2                       2        2   \n",
       "20                       2        2                       2        2   \n",
       "\n",
       "    FINAL_CLASSIFICATION  ICU  FEMALE  MALE  HOSPITALIZED  AMBULATORY  \n",
       "0                      3   97       1     0             0           1  \n",
       "3                      3   97       0     1             0           1  \n",
       "15                     3   97       1     0             0           1  \n",
       "18                     3   97       1     0             0           1  \n",
       "20                     3   97       0     1             0           1  \n",
       "\n",
       "[5 rows x 28 columns]"
      ]
     },
     "execution_count": 30,
     "metadata": {},
     "output_type": "execute_result"
    }
   ],
   "source": [
    "#data = pd.read_csv(\"./data/full_data.csv\")\n",
    "data = covid_data.copy()\n",
    "data.head()"
   ]
  },
  {
   "cell_type": "code",
   "execution_count": 98,
   "id": "0c93b273",
   "metadata": {},
   "outputs": [
    {
     "data": {
      "text/plain": [
       "<Axes: title={'center': 'Age group distribution'}, xlabel='AGE_GROUP'>"
      ]
     },
     "execution_count": 98,
     "metadata": {},
     "output_type": "execute_result"
    },
    {
     "data": {
      "image/png": "[encoded data removed]",
      "text/plain": [
       "<Figure size 640x480 with 1 Axes>"
      ]
     },
     "metadata": {},
     "output_type": "display_data"
    }
   ],
   "source": [
    "# Stratifying by age\n",
    "age_bins = [0, 15, 60, 80, 100]\n",
    "age_labels = [\"0-14\", \"15-59\", \"60-79\", \"80+\"]\n",
    "data[\"AGE_GROUP\"] = pd.cut(data[\"AGE\"], bins=age_bins, labels=age_labels, right=False)\n",
    "\n",
    "# Handling cases where dates are zero or missing\n",
    "data[\"SYMPTOM_ONSET_DATE\"] = pd.to_datetime(data[\"SYMPTOM_ONSET_DATE\"], errors=\"coerce\")\n",
    "data[\"ADMISSION_DATE\"] = pd.to_datetime(data[\"ADMISSION_DATE\"], errors=\"coerce\")\n",
    "\n",
    "# Replace missing or zero dates with a placeholder (e.g., '1970-01-01')\n",
    "data[\"SYMPTOM_ONSET_DATE\"].fillna(pd.Timestamp(\"1970-01-01\"), inplace=True)\n",
    "data[\"ADMISSION_DATE\"].fillna(pd.Timestamp(\"1970-01-01\"), inplace=True)\n",
    "\n",
    "# Count and plot age group distribution\n",
    "data[\"AGE_GROUP\"].value_counts()\n",
    "data[\"AGE_GROUP\"].value_counts().plot(kind=\"bar\", title=\"Age group distribution\")"
   ]
  },
  {
   "cell_type": "code",
   "execution_count": 99,
   "id": "51a8495a",
   "metadata": {},
   "outputs": [
    {
     "data": {
      "text/plain": [
       "Index(['MEDICAL_UNIT_STATE', 'UPDATE_DATE', 'RECORD_ID', 'SEX', 'PATIENT_TYPE',\n",
       "       'ADMISSION_DATE', 'SYMPTOM_ONSET_DATE', 'DEATH_DATE', 'INTUBATED',\n",
       "       'PNEUMONIA', 'AGE', 'PREGNANCY', 'DIABETES', 'COPD', 'ASTHMA',\n",
       "       'IMMUNOSUPPRESSED', 'HYPERTENSION', 'OTHER_COMORBIDITY',\n",
       "       'CARDIOVASCULAR_DISEASE', 'OBESITY', 'CHRONIC_KIDNEY_DISEASE',\n",
       "       'SMOKING', 'FINAL_CLASSIFICATION', 'ICU', 'FEMALE', 'MALE',\n",
       "       'HOSPITALIZED', 'AMBULATORY', 'AGE_GROUP'],\n",
       "      dtype='object')"
      ]
     },
     "execution_count": 99,
     "metadata": {},
     "output_type": "execute_result"
    }
   ],
   "source": [
    "data.columns"
   ]
  },
  {
   "cell_type": "code",
   "execution_count": 102,
   "id": "4e6aa053",
   "metadata": {},
   "outputs": [
    {
     "name": "stderr",
     "output_type": "stream",
     "text": [
      "/var/folders/_f/sc03zbpx4wnbdctrkv1pq2lh0000gn/T/ipykernel_13810/869895443.py:6: FutureWarning: The default of observed=False is deprecated and will be changed to True in a future version of pandas. Pass observed=False to retain current behavior or observed=True to adopt the future default and silence this warning.\n",
      "  result = data.groupby([\"AGE_GROUP\", \"SYMPTOM_ONSET_DATE\", \"MEDICAL_UNIT_STATE\"]).size().reset_index(name=\"onset\")\n",
      "/var/folders/_f/sc03zbpx4wnbdctrkv1pq2lh0000gn/T/ipykernel_13810/869895443.py:9: FutureWarning: The default of observed=False is deprecated and will be changed to True in a future version of pandas. Pass observed=False to retain current behavior or observed=True to adopt the future default and silence this warning.\n",
      "  reported = data.groupby([\"AGE_GROUP\", \"ADMISSION_DATE\", \"MEDICAL_UNIT_STATE\"]).size().reset_index(name=\"reported\")\n"
     ]
    },
    {
     "data": {
      "application/vnd.microsoft.datawrangler.viewer.v0+json": {
       "columns": [
        {
         "name": "index",
         "rawType": "int64",
         "type": "integer"
        },
        {
         "name": "AGE_GROUP",
         "rawType": "category",
         "type": "unknown"
        },
        {
         "name": "date",
         "rawType": "datetime64[ns]",
         "type": "datetime"
        },
        {
         "name": "MEDICAL_UNIT_STATE",
         "rawType": "int64",
         "type": "integer"
        },
        {
         "name": "onset",
         "rawType": "float64",
         "type": "float"
        },
        {
         "name": "reported",
         "rawType": "float64",
         "type": "float"
        }
       ],
       "conversionMethod": "pd.DataFrame",
       "ref": "5433dc33-eb0f-49f0-bfd8-b46c9c77353a",
       "rows": [
        [
         "0",
         "0-14",
         "2020-02-19 00:00:00",
         "1",
         "0.0",
         null
        ],
        [
         "1",
         "0-14",
         "2020-02-19 00:00:00",
         "2",
         "0.0",
         null
        ],
        [
         "2",
         "0-14",
         "2020-02-19 00:00:00",
         "3",
         "0.0",
         null
        ],
        [
         "3",
         "0-14",
         "2020-02-19 00:00:00",
         "4",
         "0.0",
         null
        ],
        [
         "4",
         "0-14",
         "2020-02-19 00:00:00",
         "5",
         "0.0",
         null
        ],
        [
         "5",
         "0-14",
         "2020-02-19 00:00:00",
         "6",
         "0.0",
         null
        ],
        [
         "6",
         "0-14",
         "2020-02-19 00:00:00",
         "7",
         "0.0",
         null
        ],
        [
         "7",
         "0-14",
         "2020-02-19 00:00:00",
         "8",
         "0.0",
         null
        ],
        [
         "8",
         "0-14",
         "2020-02-19 00:00:00",
         "9",
         "0.0",
         null
        ],
        [
         "9",
         "0-14",
         "2020-02-19 00:00:00",
         "10",
         "0.0",
         null
        ],
        [
         "10",
         "0-14",
         "2020-02-19 00:00:00",
         "11",
         "0.0",
         null
        ],
        [
         "11",
         "0-14",
         "2020-02-19 00:00:00",
         "12",
         "0.0",
         null
        ],
        [
         "12",
         "0-14",
         "2020-02-19 00:00:00",
         "13",
         "0.0",
         null
        ],
        [
         "13",
         "0-14",
         "2020-02-19 00:00:00",
         "14",
         "0.0",
         null
        ],
        [
         "14",
         "0-14",
         "2020-02-19 00:00:00",
         "15",
         "0.0",
         null
        ],
        [
         "15",
         "0-14",
         "2020-02-19 00:00:00",
         "16",
         "0.0",
         null
        ],
        [
         "16",
         "0-14",
         "2020-02-19 00:00:00",
         "17",
         "0.0",
         null
        ],
        [
         "17",
         "0-14",
         "2020-02-19 00:00:00",
         "18",
         "0.0",
         null
        ],
        [
         "18",
         "0-14",
         "2020-02-19 00:00:00",
         "19",
         "0.0",
         null
        ],
        [
         "19",
         "0-14",
         "2020-02-19 00:00:00",
         "20",
         "0.0",
         null
        ],
        [
         "20",
         "0-14",
         "2020-02-19 00:00:00",
         "21",
         "0.0",
         null
        ],
        [
         "21",
         "0-14",
         "2020-02-19 00:00:00",
         "22",
         "0.0",
         null
        ],
        [
         "22",
         "0-14",
         "2020-02-19 00:00:00",
         "23",
         "0.0",
         null
        ],
        [
         "23",
         "0-14",
         "2020-02-19 00:00:00",
         "24",
         "0.0",
         null
        ],
        [
         "24",
         "0-14",
         "2020-02-19 00:00:00",
         "25",
         "0.0",
         null
        ],
        [
         "25",
         "0-14",
         "2020-02-19 00:00:00",
         "26",
         "0.0",
         null
        ],
        [
         "26",
         "0-14",
         "2020-02-19 00:00:00",
         "27",
         "0.0",
         null
        ],
        [
         "27",
         "0-14",
         "2020-02-19 00:00:00",
         "28",
         "0.0",
         null
        ],
        [
         "28",
         "0-14",
         "2020-02-19 00:00:00",
         "29",
         "0.0",
         null
        ],
        [
         "29",
         "0-14",
         "2020-02-19 00:00:00",
         "30",
         "0.0",
         null
        ],
        [
         "30",
         "0-14",
         "2020-02-19 00:00:00",
         "31",
         "0.0",
         null
        ],
        [
         "31",
         "0-14",
         "2020-02-19 00:00:00",
         "32",
         "0.0",
         null
        ],
        [
         "32",
         "0-14",
         "2020-02-22 00:00:00",
         "1",
         "0.0",
         null
        ],
        [
         "33",
         "0-14",
         "2020-02-22 00:00:00",
         "2",
         "0.0",
         null
        ],
        [
         "34",
         "0-14",
         "2020-02-22 00:00:00",
         "3",
         "0.0",
         null
        ],
        [
         "35",
         "0-14",
         "2020-02-22 00:00:00",
         "4",
         "0.0",
         null
        ],
        [
         "36",
         "0-14",
         "2020-02-22 00:00:00",
         "5",
         "0.0",
         null
        ],
        [
         "37",
         "0-14",
         "2020-02-22 00:00:00",
         "6",
         "0.0",
         null
        ],
        [
         "38",
         "0-14",
         "2020-02-22 00:00:00",
         "7",
         "0.0",
         null
        ],
        [
         "39",
         "0-14",
         "2020-02-22 00:00:00",
         "8",
         "0.0",
         null
        ],
        [
         "40",
         "0-14",
         "2020-02-22 00:00:00",
         "9",
         "0.0",
         null
        ],
        [
         "41",
         "0-14",
         "2020-02-22 00:00:00",
         "10",
         "0.0",
         null
        ],
        [
         "42",
         "0-14",
         "2020-02-22 00:00:00",
         "11",
         "0.0",
         null
        ],
        [
         "43",
         "0-14",
         "2020-02-22 00:00:00",
         "12",
         "0.0",
         null
        ],
        [
         "44",
         "0-14",
         "2020-02-22 00:00:00",
         "13",
         "0.0",
         null
        ],
        [
         "45",
         "0-14",
         "2020-02-22 00:00:00",
         "14",
         "0.0",
         null
        ],
        [
         "46",
         "0-14",
         "2020-02-22 00:00:00",
         "15",
         "0.0",
         null
        ],
        [
         "47",
         "0-14",
         "2020-02-22 00:00:00",
         "16",
         "0.0",
         null
        ],
        [
         "48",
         "0-14",
         "2020-02-22 00:00:00",
         "17",
         "0.0",
         null
        ],
        [
         "49",
         "0-14",
         "2020-02-22 00:00:00",
         "18",
         "0.0",
         null
        ]
       ],
       "shape": {
        "columns": 5,
        "rows": 45824
       }
      },
      "text/html": [
       "<div>\n",
       "<style scoped>\n",
       "    .dataframe tbody tr th:only-of-type {\n",
       "        vertical-align: middle;\n",
       "    }\n",
       "\n",
       "    .dataframe tbody tr th {\n",
       "        vertical-align: top;\n",
       "    }\n",
       "\n",
       "    .dataframe thead th {\n",
       "        text-align: right;\n",
       "    }\n",
       "</style>\n",
       "<table border=\"1\" class=\"dataframe\">\n",
       "  <thead>\n",
       "    <tr style=\"text-align: right;\">\n",
       "      <th></th>\n",
       "      <th>AGE_GROUP</th>\n",
       "      <th>date</th>\n",
       "      <th>MEDICAL_UNIT_STATE</th>\n",
       "      <th>onset</th>\n",
       "      <th>reported</th>\n",
       "    </tr>\n",
       "  </thead>\n",
       "  <tbody>\n",
       "    <tr>\n",
       "      <th>0</th>\n",
       "      <td>0-14</td>\n",
       "      <td>2020-02-19</td>\n",
       "      <td>1</td>\n",
       "      <td>0.0</td>\n",
       "      <td>NaN</td>\n",
       "    </tr>\n",
       "    <tr>\n",
       "      <th>1</th>\n",
       "      <td>0-14</td>\n",
       "      <td>2020-02-19</td>\n",
       "      <td>2</td>\n",
       "      <td>0.0</td>\n",
       "      <td>NaN</td>\n",
       "    </tr>\n",
       "    <tr>\n",
       "      <th>2</th>\n",
       "      <td>0-14</td>\n",
       "      <td>2020-02-19</td>\n",
       "      <td>3</td>\n",
       "      <td>0.0</td>\n",
       "      <td>NaN</td>\n",
       "    </tr>\n",
       "    <tr>\n",
       "      <th>3</th>\n",
       "      <td>0-14</td>\n",
       "      <td>2020-02-19</td>\n",
       "      <td>4</td>\n",
       "      <td>0.0</td>\n",
       "      <td>NaN</td>\n",
       "    </tr>\n",
       "    <tr>\n",
       "      <th>4</th>\n",
       "      <td>0-14</td>\n",
       "      <td>2020-02-19</td>\n",
       "      <td>5</td>\n",
       "      <td>0.0</td>\n",
       "      <td>NaN</td>\n",
       "    </tr>\n",
       "    <tr>\n",
       "      <th>...</th>\n",
       "      <td>...</td>\n",
       "      <td>...</td>\n",
       "      <td>...</td>\n",
       "      <td>...</td>\n",
       "      <td>...</td>\n",
       "    </tr>\n",
       "    <tr>\n",
       "      <th>45819</th>\n",
       "      <td>80+</td>\n",
       "      <td>2021-09-06</td>\n",
       "      <td>28</td>\n",
       "      <td>NaN</td>\n",
       "      <td>0.0</td>\n",
       "    </tr>\n",
       "    <tr>\n",
       "      <th>45820</th>\n",
       "      <td>80+</td>\n",
       "      <td>2021-09-06</td>\n",
       "      <td>29</td>\n",
       "      <td>NaN</td>\n",
       "      <td>0.0</td>\n",
       "    </tr>\n",
       "    <tr>\n",
       "      <th>45821</th>\n",
       "      <td>80+</td>\n",
       "      <td>2021-09-06</td>\n",
       "      <td>30</td>\n",
       "      <td>NaN</td>\n",
       "      <td>0.0</td>\n",
       "    </tr>\n",
       "    <tr>\n",
       "      <th>45822</th>\n",
       "      <td>80+</td>\n",
       "      <td>2021-09-06</td>\n",
       "      <td>31</td>\n",
       "      <td>NaN</td>\n",
       "      <td>0.0</td>\n",
       "    </tr>\n",
       "    <tr>\n",
       "      <th>45823</th>\n",
       "      <td>80+</td>\n",
       "      <td>2021-09-06</td>\n",
       "      <td>32</td>\n",
       "      <td>NaN</td>\n",
       "      <td>0.0</td>\n",
       "    </tr>\n",
       "  </tbody>\n",
       "</table>\n",
       "<p>45824 rows × 5 columns</p>\n",
       "</div>"
      ],
      "text/plain": [
       "      AGE_GROUP       date  MEDICAL_UNIT_STATE  onset  reported\n",
       "0          0-14 2020-02-19                   1    0.0       NaN\n",
       "1          0-14 2020-02-19                   2    0.0       NaN\n",
       "2          0-14 2020-02-19                   3    0.0       NaN\n",
       "3          0-14 2020-02-19                   4    0.0       NaN\n",
       "4          0-14 2020-02-19                   5    0.0       NaN\n",
       "...         ...        ...                 ...    ...       ...\n",
       "45819       80+ 2021-09-06                  28    NaN       0.0\n",
       "45820       80+ 2021-09-06                  29    NaN       0.0\n",
       "45821       80+ 2021-09-06                  30    NaN       0.0\n",
       "45822       80+ 2021-09-06                  31    NaN       0.0\n",
       "45823       80+ 2021-09-06                  32    NaN       0.0\n",
       "\n",
       "[45824 rows x 5 columns]"
      ]
     },
     "execution_count": 102,
     "metadata": {},
     "output_type": "execute_result"
    }
   ],
   "source": [
    "#getting a count of symptoms and cases reported per date per age group\n",
    "data[\"SYMPTOM_ONSET_DATE\"] = pd.to_datetime(data[\"SYMPTOM_ONSET_DATE\"], format=\"%Y-%m-%d\", errors=\"coerce\")\n",
    "data[\"ADMISSION_DATE\"] = pd.to_datetime(data[\"ADMISSION_DATE\"], format=\"%Y-%m-%d\", errors=\"coerce\")\n",
    "\n",
    "# Grouping by age group and date, and counting cases\n",
    "result = data.groupby([\"AGE_GROUP\", \"SYMPTOM_ONSET_DATE\", \"MEDICAL_UNIT_STATE\"]).size().reset_index(name=\"onset\")\n",
    "result = result.rename(columns={\"SYMPTOM_ONSET_DATE\": \"date\"})\n",
    "\n",
    "reported = data.groupby([\"AGE_GROUP\", \"ADMISSION_DATE\", \"MEDICAL_UNIT_STATE\"]).size().reset_index(name=\"reported\")\n",
    "reported = reported.rename(columns={\"ADMISSION_DATE\": \"date\"})\n",
    "\n",
    "# Merging the two dataframes\n",
    "final_df = pd.merge(result, reported, on=[\"AGE_GROUP\", \"date\", \"MEDICAL_UNIT_STATE\"], how=\"outer\")\n",
    "\n",
    "final_df\n",
    "\n"
   ]
  },
  {
   "cell_type": "code",
   "execution_count": 103,
   "id": "da23abc6",
   "metadata": {},
   "outputs": [
    {
     "data": {
      "application/vnd.microsoft.datawrangler.viewer.v0+json": {
       "columns": [
        {
         "name": "index",
         "rawType": "object",
         "type": "string"
        },
        {
         "name": "date",
         "rawType": "object",
         "type": "unknown"
        },
        {
         "name": "MEDICAL_UNIT_STATE",
         "rawType": "float64",
         "type": "float"
        },
        {
         "name": "onset",
         "rawType": "float64",
         "type": "float"
        },
        {
         "name": "reported",
         "rawType": "float64",
         "type": "float"
        }
       ],
       "conversionMethod": "pd.DataFrame",
       "ref": "928f6d49-a34f-4b60-a278-87c486a07785",
       "rows": [
        [
         "count",
         "45824",
         "45824.0",
         "40192.0",
         "44800.0"
        ],
        [
         "mean",
         "2020-08-19 12:28:09.385474816",
         "16.5",
         "36.80876791401274",
         "33.02272321428571"
        ],
        [
         "min",
         "2020-02-19 00:00:00",
         "1.0",
         "0.0",
         "0.0"
        ],
        [
         "25%",
         "2020-05-21 00:00:00",
         "8.75",
         "1.0",
         "0.0"
        ],
        [
         "50%",
         "2020-08-18 12:00:00",
         "16.5",
         "4.0",
         "3.0"
        ],
        [
         "75%",
         "2020-11-16 00:00:00",
         "24.25",
         "25.0",
         "19.0"
        ],
        [
         "max",
         "2021-09-06 00:00:00",
         "32.0",
         "4150.0",
         "5120.0"
        ],
        [
         "std",
         null,
         "9.233193403121156",
         "134.86492995473594",
         "136.51984815605212"
        ]
       ],
       "shape": {
        "columns": 4,
        "rows": 8
       }
      },
      "text/html": [
       "<div>\n",
       "<style scoped>\n",
       "    .dataframe tbody tr th:only-of-type {\n",
       "        vertical-align: middle;\n",
       "    }\n",
       "\n",
       "    .dataframe tbody tr th {\n",
       "        vertical-align: top;\n",
       "    }\n",
       "\n",
       "    .dataframe thead th {\n",
       "        text-align: right;\n",
       "    }\n",
       "</style>\n",
       "<table border=\"1\" class=\"dataframe\">\n",
       "  <thead>\n",
       "    <tr style=\"text-align: right;\">\n",
       "      <th></th>\n",
       "      <th>date</th>\n",
       "      <th>MEDICAL_UNIT_STATE</th>\n",
       "      <th>onset</th>\n",
       "      <th>reported</th>\n",
       "    </tr>\n",
       "  </thead>\n",
       "  <tbody>\n",
       "    <tr>\n",
       "      <th>count</th>\n",
       "      <td>45824</td>\n",
       "      <td>45824.000000</td>\n",
       "      <td>40192.000000</td>\n",
       "      <td>44800.000000</td>\n",
       "    </tr>\n",
       "    <tr>\n",
       "      <th>mean</th>\n",
       "      <td>2020-08-19 12:28:09.385474816</td>\n",
       "      <td>16.500000</td>\n",
       "      <td>36.808768</td>\n",
       "      <td>33.022723</td>\n",
       "    </tr>\n",
       "    <tr>\n",
       "      <th>min</th>\n",
       "      <td>2020-02-19 00:00:00</td>\n",
       "      <td>1.000000</td>\n",
       "      <td>0.000000</td>\n",
       "      <td>0.000000</td>\n",
       "    </tr>\n",
       "    <tr>\n",
       "      <th>25%</th>\n",
       "      <td>2020-05-21 00:00:00</td>\n",
       "      <td>8.750000</td>\n",
       "      <td>1.000000</td>\n",
       "      <td>0.000000</td>\n",
       "    </tr>\n",
       "    <tr>\n",
       "      <th>50%</th>\n",
       "      <td>2020-08-18 12:00:00</td>\n",
       "      <td>16.500000</td>\n",
       "      <td>4.000000</td>\n",
       "      <td>3.000000</td>\n",
       "    </tr>\n",
       "    <tr>\n",
       "      <th>75%</th>\n",
       "      <td>2020-11-16 00:00:00</td>\n",
       "      <td>24.250000</td>\n",
       "      <td>25.000000</td>\n",
       "      <td>19.000000</td>\n",
       "    </tr>\n",
       "    <tr>\n",
       "      <th>max</th>\n",
       "      <td>2021-09-06 00:00:00</td>\n",
       "      <td>32.000000</td>\n",
       "      <td>4150.000000</td>\n",
       "      <td>5120.000000</td>\n",
       "    </tr>\n",
       "    <tr>\n",
       "      <th>std</th>\n",
       "      <td>NaN</td>\n",
       "      <td>9.233193</td>\n",
       "      <td>134.864930</td>\n",
       "      <td>136.519848</td>\n",
       "    </tr>\n",
       "  </tbody>\n",
       "</table>\n",
       "</div>"
      ],
      "text/plain": [
       "                                date  MEDICAL_UNIT_STATE         onset  \\\n",
       "count                          45824        45824.000000  40192.000000   \n",
       "mean   2020-08-19 12:28:09.385474816           16.500000     36.808768   \n",
       "min              2020-02-19 00:00:00            1.000000      0.000000   \n",
       "25%              2020-05-21 00:00:00            8.750000      1.000000   \n",
       "50%              2020-08-18 12:00:00           16.500000      4.000000   \n",
       "75%              2020-11-16 00:00:00           24.250000     25.000000   \n",
       "max              2021-09-06 00:00:00           32.000000   4150.000000   \n",
       "std                              NaN            9.233193    134.864930   \n",
       "\n",
       "           reported  \n",
       "count  44800.000000  \n",
       "mean      33.022723  \n",
       "min        0.000000  \n",
       "25%        0.000000  \n",
       "50%        3.000000  \n",
       "75%       19.000000  \n",
       "max     5120.000000  \n",
       "std      136.519848  "
      ]
     },
     "execution_count": 103,
     "metadata": {},
     "output_type": "execute_result"
    }
   ],
   "source": [
    "final_df.describe()"
   ]
  },
  {
   "cell_type": "code",
   "execution_count": 104,
   "id": "8ce00e80",
   "metadata": {},
   "outputs": [],
   "source": [
    "final_df.rename(columns={\"onset\": \"onsets\", \"AGE_GROUP\": \"age_group\", \"MEDICAL_UNIT_STATE\": \"state\"}, inplace=True)"
   ]
  },
  {
   "cell_type": "code",
   "execution_count": 105,
   "id": "f50601c8",
   "metadata": {},
   "outputs": [
    {
     "data": {
      "text/plain": [
       "age_group\n",
       "0-14     11456\n",
       "15-59    11456\n",
       "60-79    11456\n",
       "80+      11456\n",
       "Name: count, dtype: int64"
      ]
     },
     "execution_count": 105,
     "metadata": {},
     "output_type": "execute_result"
    }
   ],
   "source": [
    "final_df[\"age_group\"].value_counts()"
   ]
  },
  {
   "cell_type": "code",
   "execution_count": 106,
   "id": "538bff56",
   "metadata": {},
   "outputs": [
    {
     "data": {
      "application/vnd.microsoft.datawrangler.viewer.v0+json": {
       "columns": [
        {
         "name": "index",
         "rawType": "int64",
         "type": "integer"
        },
        {
         "name": "age_group",
         "rawType": "category",
         "type": "unknown"
        },
        {
         "name": "date",
         "rawType": "datetime64[ns]",
         "type": "datetime"
        },
        {
         "name": "state",
         "rawType": "int64",
         "type": "integer"
        },
        {
         "name": "onsets",
         "rawType": "float64",
         "type": "float"
        },
        {
         "name": "reported",
         "rawType": "float64",
         "type": "float"
        }
       ],
       "conversionMethod": "pd.DataFrame",
       "ref": "a5c4a0e7-a2c6-484c-96c8-7275a620ed9d",
       "rows": [
        [
         "0",
         "0-14",
         "2020-02-19 00:00:00",
         "1",
         "0.0",
         null
        ],
        [
         "1",
         "0-14",
         "2020-02-19 00:00:00",
         "2",
         "0.0",
         null
        ],
        [
         "2",
         "0-14",
         "2020-02-19 00:00:00",
         "3",
         "0.0",
         null
        ],
        [
         "3",
         "0-14",
         "2020-02-19 00:00:00",
         "4",
         "0.0",
         null
        ],
        [
         "4",
         "0-14",
         "2020-02-19 00:00:00",
         "5",
         "0.0",
         null
        ],
        [
         "5",
         "0-14",
         "2020-02-19 00:00:00",
         "6",
         "0.0",
         null
        ],
        [
         "6",
         "0-14",
         "2020-02-19 00:00:00",
         "7",
         "0.0",
         null
        ],
        [
         "7",
         "0-14",
         "2020-02-19 00:00:00",
         "8",
         "0.0",
         null
        ],
        [
         "8",
         "0-14",
         "2020-02-19 00:00:00",
         "9",
         "0.0",
         null
        ],
        [
         "9",
         "0-14",
         "2020-02-19 00:00:00",
         "10",
         "0.0",
         null
        ],
        [
         "10",
         "0-14",
         "2020-02-19 00:00:00",
         "11",
         "0.0",
         null
        ],
        [
         "11",
         "0-14",
         "2020-02-19 00:00:00",
         "12",
         "0.0",
         null
        ],
        [
         "12",
         "0-14",
         "2020-02-19 00:00:00",
         "13",
         "0.0",
         null
        ],
        [
         "13",
         "0-14",
         "2020-02-19 00:00:00",
         "14",
         "0.0",
         null
        ],
        [
         "14",
         "0-14",
         "2020-02-19 00:00:00",
         "15",
         "0.0",
         null
        ],
        [
         "15",
         "0-14",
         "2020-02-19 00:00:00",
         "16",
         "0.0",
         null
        ],
        [
         "16",
         "0-14",
         "2020-02-19 00:00:00",
         "17",
         "0.0",
         null
        ],
        [
         "17",
         "0-14",
         "2020-02-19 00:00:00",
         "18",
         "0.0",
         null
        ],
        [
         "18",
         "0-14",
         "2020-02-19 00:00:00",
         "19",
         "0.0",
         null
        ],
        [
         "19",
         "0-14",
         "2020-02-19 00:00:00",
         "20",
         "0.0",
         null
        ],
        [
         "20",
         "0-14",
         "2020-02-19 00:00:00",
         "21",
         "0.0",
         null
        ],
        [
         "21",
         "0-14",
         "2020-02-19 00:00:00",
         "22",
         "0.0",
         null
        ],
        [
         "22",
         "0-14",
         "2020-02-19 00:00:00",
         "23",
         "0.0",
         null
        ],
        [
         "23",
         "0-14",
         "2020-02-19 00:00:00",
         "24",
         "0.0",
         null
        ],
        [
         "24",
         "0-14",
         "2020-02-19 00:00:00",
         "25",
         "0.0",
         null
        ],
        [
         "25",
         "0-14",
         "2020-02-19 00:00:00",
         "26",
         "0.0",
         null
        ],
        [
         "26",
         "0-14",
         "2020-02-19 00:00:00",
         "27",
         "0.0",
         null
        ],
        [
         "27",
         "0-14",
         "2020-02-19 00:00:00",
         "28",
         "0.0",
         null
        ],
        [
         "28",
         "0-14",
         "2020-02-19 00:00:00",
         "29",
         "0.0",
         null
        ],
        [
         "29",
         "0-14",
         "2020-02-19 00:00:00",
         "30",
         "0.0",
         null
        ],
        [
         "30",
         "0-14",
         "2020-02-19 00:00:00",
         "31",
         "0.0",
         null
        ],
        [
         "31",
         "0-14",
         "2020-02-19 00:00:00",
         "32",
         "0.0",
         null
        ],
        [
         "32",
         "0-14",
         "2020-02-22 00:00:00",
         "1",
         "0.0",
         null
        ],
        [
         "33",
         "0-14",
         "2020-02-22 00:00:00",
         "2",
         "0.0",
         null
        ],
        [
         "34",
         "0-14",
         "2020-02-22 00:00:00",
         "3",
         "0.0",
         null
        ],
        [
         "35",
         "0-14",
         "2020-02-22 00:00:00",
         "4",
         "0.0",
         null
        ],
        [
         "36",
         "0-14",
         "2020-02-22 00:00:00",
         "5",
         "0.0",
         null
        ],
        [
         "37",
         "0-14",
         "2020-02-22 00:00:00",
         "6",
         "0.0",
         null
        ],
        [
         "38",
         "0-14",
         "2020-02-22 00:00:00",
         "7",
         "0.0",
         null
        ],
        [
         "39",
         "0-14",
         "2020-02-22 00:00:00",
         "8",
         "0.0",
         null
        ],
        [
         "40",
         "0-14",
         "2020-02-22 00:00:00",
         "9",
         "0.0",
         null
        ],
        [
         "41",
         "0-14",
         "2020-02-22 00:00:00",
         "10",
         "0.0",
         null
        ],
        [
         "42",
         "0-14",
         "2020-02-22 00:00:00",
         "11",
         "0.0",
         null
        ],
        [
         "43",
         "0-14",
         "2020-02-22 00:00:00",
         "12",
         "0.0",
         null
        ],
        [
         "44",
         "0-14",
         "2020-02-22 00:00:00",
         "13",
         "0.0",
         null
        ],
        [
         "45",
         "0-14",
         "2020-02-22 00:00:00",
         "14",
         "0.0",
         null
        ],
        [
         "46",
         "0-14",
         "2020-02-22 00:00:00",
         "15",
         "0.0",
         null
        ],
        [
         "47",
         "0-14",
         "2020-02-22 00:00:00",
         "16",
         "0.0",
         null
        ],
        [
         "48",
         "0-14",
         "2020-02-22 00:00:00",
         "17",
         "0.0",
         null
        ],
        [
         "49",
         "0-14",
         "2020-02-22 00:00:00",
         "18",
         "0.0",
         null
        ]
       ],
       "shape": {
        "columns": 5,
        "rows": 45824
       }
      },
      "text/html": [
       "<div>\n",
       "<style scoped>\n",
       "    .dataframe tbody tr th:only-of-type {\n",
       "        vertical-align: middle;\n",
       "    }\n",
       "\n",
       "    .dataframe tbody tr th {\n",
       "        vertical-align: top;\n",
       "    }\n",
       "\n",
       "    .dataframe thead th {\n",
       "        text-align: right;\n",
       "    }\n",
       "</style>\n",
       "<table border=\"1\" class=\"dataframe\">\n",
       "  <thead>\n",
       "    <tr style=\"text-align: right;\">\n",
       "      <th></th>\n",
       "      <th>age_group</th>\n",
       "      <th>date</th>\n",
       "      <th>state</th>\n",
       "      <th>onsets</th>\n",
       "      <th>reported</th>\n",
       "    </tr>\n",
       "  </thead>\n",
       "  <tbody>\n",
       "    <tr>\n",
       "      <th>0</th>\n",
       "      <td>0-14</td>\n",
       "      <td>2020-02-19</td>\n",
       "      <td>1</td>\n",
       "      <td>0.0</td>\n",
       "      <td>NaN</td>\n",
       "    </tr>\n",
       "    <tr>\n",
       "      <th>1</th>\n",
       "      <td>0-14</td>\n",
       "      <td>2020-02-19</td>\n",
       "      <td>2</td>\n",
       "      <td>0.0</td>\n",
       "      <td>NaN</td>\n",
       "    </tr>\n",
       "    <tr>\n",
       "      <th>2</th>\n",
       "      <td>0-14</td>\n",
       "      <td>2020-02-19</td>\n",
       "      <td>3</td>\n",
       "      <td>0.0</td>\n",
       "      <td>NaN</td>\n",
       "    </tr>\n",
       "    <tr>\n",
       "      <th>3</th>\n",
       "      <td>0-14</td>\n",
       "      <td>2020-02-19</td>\n",
       "      <td>4</td>\n",
       "      <td>0.0</td>\n",
       "      <td>NaN</td>\n",
       "    </tr>\n",
       "    <tr>\n",
       "      <th>4</th>\n",
       "      <td>0-14</td>\n",
       "      <td>2020-02-19</td>\n",
       "      <td>5</td>\n",
       "      <td>0.0</td>\n",
       "      <td>NaN</td>\n",
       "    </tr>\n",
       "    <tr>\n",
       "      <th>...</th>\n",
       "      <td>...</td>\n",
       "      <td>...</td>\n",
       "      <td>...</td>\n",
       "      <td>...</td>\n",
       "      <td>...</td>\n",
       "    </tr>\n",
       "    <tr>\n",
       "      <th>45819</th>\n",
       "      <td>80+</td>\n",
       "      <td>2021-09-06</td>\n",
       "      <td>28</td>\n",
       "      <td>NaN</td>\n",
       "      <td>0.0</td>\n",
       "    </tr>\n",
       "    <tr>\n",
       "      <th>45820</th>\n",
       "      <td>80+</td>\n",
       "      <td>2021-09-06</td>\n",
       "      <td>29</td>\n",
       "      <td>NaN</td>\n",
       "      <td>0.0</td>\n",
       "    </tr>\n",
       "    <tr>\n",
       "      <th>45821</th>\n",
       "      <td>80+</td>\n",
       "      <td>2021-09-06</td>\n",
       "      <td>30</td>\n",
       "      <td>NaN</td>\n",
       "      <td>0.0</td>\n",
       "    </tr>\n",
       "    <tr>\n",
       "      <th>45822</th>\n",
       "      <td>80+</td>\n",
       "      <td>2021-09-06</td>\n",
       "      <td>31</td>\n",
       "      <td>NaN</td>\n",
       "      <td>0.0</td>\n",
       "    </tr>\n",
       "    <tr>\n",
       "      <th>45823</th>\n",
       "      <td>80+</td>\n",
       "      <td>2021-09-06</td>\n",
       "      <td>32</td>\n",
       "      <td>NaN</td>\n",
       "      <td>0.0</td>\n",
       "    </tr>\n",
       "  </tbody>\n",
       "</table>\n",
       "<p>45824 rows × 5 columns</p>\n",
       "</div>"
      ],
      "text/plain": [
       "      age_group       date  state  onsets  reported\n",
       "0          0-14 2020-02-19      1     0.0       NaN\n",
       "1          0-14 2020-02-19      2     0.0       NaN\n",
       "2          0-14 2020-02-19      3     0.0       NaN\n",
       "3          0-14 2020-02-19      4     0.0       NaN\n",
       "4          0-14 2020-02-19      5     0.0       NaN\n",
       "...         ...        ...    ...     ...       ...\n",
       "45819       80+ 2021-09-06     28     NaN       0.0\n",
       "45820       80+ 2021-09-06     29     NaN       0.0\n",
       "45821       80+ 2021-09-06     30     NaN       0.0\n",
       "45822       80+ 2021-09-06     31     NaN       0.0\n",
       "45823       80+ 2021-09-06     32     NaN       0.0\n",
       "\n",
       "[45824 rows x 5 columns]"
      ]
     },
     "execution_count": 106,
     "metadata": {},
     "output_type": "execute_result"
    }
   ],
   "source": [
    "final_df"
   ]
  },
  {
   "cell_type": "code",
   "execution_count": 107,
   "id": "d1c020c0",
   "metadata": {},
   "outputs": [],
   "source": [
    "#set missing values to 0\n",
    "final_df[\"reported\"] = final_df[\"reported\"].fillna(0)\n",
    "final_df[\"onsets\"] = final_df[\"onsets\"].fillna(0)"
   ]
  },
  {
   "cell_type": "code",
   "execution_count": null,
   "id": "47b05345",
   "metadata": {},
   "outputs": [],
   "source": [
    "final_df.to_csv(\"./data/state_data.csv\", index=False)"
   ]
  },
  {
   "cell_type": "code",
   "execution_count": 3,
   "id": "1e594a0d",
   "metadata": {},
   "outputs": [],
   "source": [
    "final_df = pd.read_csv(\"./data/state_data.csv\")"
   ]
  },
  {
   "cell_type": "code",
   "execution_count": 5,
   "id": "d6c27e2a",
   "metadata": {},
   "outputs": [],
   "source": [
    "test = final_df[final_df[\"date\"] < \"2021-01-25\"]"
   ]
  },
  {
   "cell_type": "code",
   "execution_count": 64,
   "id": "9da47b3c",
   "metadata": {},
   "outputs": [],
   "source": [
    "test.to_csv(\"./data/age_group_data.csv\", index=False)"
   ]
  },
  {
   "cell_type": "code",
   "execution_count": 117,
   "id": "1b91ea44",
   "metadata": {},
   "outputs": [],
   "source": [
    "test[test[\"state\"] == 19].to_csv(\"./data/age_group_data_mty.csv\", index=False)\n",
    "test[test[\"state\"] == 14].to_csv(\"./data/age_group_data_jal.csv\", index=False)\n",
    "test[test[\"state\"] == 9].to_csv(\"./data/age_group_data_mx.csv\", index=False)"
   ]
  },
  {
   "cell_type": "code",
   "execution_count": 9,
   "id": "5b946ce8",
   "metadata": {},
   "outputs": [
    {
     "name": "stderr",
     "output_type": "stream",
     "text": [
      "No artists with labels found to put in legend.  Note that artists whose label start with an underscore are ignored when legend() is called with no argument.\n"
     ]
    },
    {
     "data": {
      "image/png": "[encoded data removed]",
      "text/plain": [
       "<Figure size 1200x600 with 1 Axes>"
      ]
     },
     "metadata": {},
     "output_type": "display_data"
    }
   ],
   "source": [
    "casos_mty = test[test[\"state\"] == 19]\n",
    "## plot cases per age group\n",
    "import matplotlib.pyplot as plt\n",
    "\n",
    "import seaborn as sns\n",
    "plt.figure(figsize=(12, 6))\n",
    "sns.set_style(\"whitegrid\")\n",
    "sns.set_palette(\"pastel\")\n",
    "sns.histplot(data=casos_mty, x=\"date\", y=\"reported\", hue=\"age_group\")\n",
    "plt.title(\"Reported cases per age group\")\n",
    "plt.xlabel(\"Date\")\n",
    "plt.ylabel(\"Reported cases\")\n",
    "plt.xticks(rotation=45)\n",
    "plt.legend(title=\"Age group\")\n",
    "plt.tight_layout()"
   ]
  },
  {
   "cell_type": "code",
   "execution_count": 110,
   "id": "0c286b7b",
   "metadata": {},
   "outputs": [
    {
     "data": {
      "image/png": "[encoded data removed]",
      "text/plain": [
       "<Figure size 1200x600 with 1 Axes>"
      ]
     },
     "metadata": {},
     "output_type": "display_data"
    }
   ],
   "source": [
    "casos_jal = final_df[final_df[\"state\"] == 14]\n",
    "## plot cases per age group\n",
    "import matplotlib.pyplot as plt\n",
    "\n",
    "import seaborn as sns\n",
    "plt.figure(figsize=(12, 6))\n",
    "sns.set_style(\"whitegrid\")\n",
    "sns.set_palette(\"pastel\")\n",
    "sns.lineplot(data=casos_jal, x=\"date\", y=\"reported\", hue=\"age_group\")\n",
    "plt.title(\"Reported cases per age group\")\n",
    "plt.xlabel(\"Date\")\n",
    "plt.ylabel(\"Reported cases\")\n",
    "plt.xticks(rotation=45)\n",
    "plt.legend(title=\"Age group\")\n",
    "plt.tight_layout()"
   ]
  },
  {
   "cell_type": "code",
   "execution_count": 2,
   "id": "ff465b9b",
   "metadata": {},
   "outputs": [
    {
     "ename": "NameError",
     "evalue": "name 'final_df' is not defined",
     "output_type": "error",
     "traceback": [
      "\u001b[0;31m---------------------------------------------------------------------------\u001b[0m",
      "\u001b[0;31mNameError\u001b[0m                                 Traceback (most recent call last)",
      "Cell \u001b[0;32mIn[2], line 1\u001b[0m\n\u001b[0;32m----> 1\u001b[0m casos_cdmx \u001b[38;5;241m=\u001b[39m \u001b[43mfinal_df\u001b[49m[final_df[\u001b[38;5;124m\"\u001b[39m\u001b[38;5;124mstate\u001b[39m\u001b[38;5;124m\"\u001b[39m] \u001b[38;5;241m==\u001b[39m \u001b[38;5;241m9\u001b[39m]\n\u001b[1;32m      2\u001b[0m \u001b[38;5;66;03m## plot cases per age group\u001b[39;00m\n\u001b[1;32m      3\u001b[0m \u001b[38;5;28;01mimport\u001b[39;00m \u001b[38;5;21;01mmatplotlib\u001b[39;00m\u001b[38;5;21;01m.\u001b[39;00m\u001b[38;5;21;01mpyplot\u001b[39;00m \u001b[38;5;28;01mas\u001b[39;00m \u001b[38;5;21;01mplt\u001b[39;00m\n",
      "\u001b[0;31mNameError\u001b[0m: name 'final_df' is not defined"
     ]
    }
   ],
   "source": [
    "casos_cdmx = final_df[final_df[\"state\"] == 9]\n",
    "## plot cases per age group\n",
    "import matplotlib.pyplot as plt\n",
    "\n",
    "import seaborn as sns\n",
    "plt.figure(figsize=(12, 6))\n",
    "sns.set_style(\"whitegrid\")\n",
    "sns.set_palette(\"pastel\")\n",
    "sns.histplot(data=casos_cdmx, x=\"date\", y=\"reported\", hue=\"age_group\")\n",
    "plt.title(\"Reported cases per age group\")\n",
    "plt.xlabel(\"Date\")\n",
    "plt.ylabel(\"Reported cases\")\n",
    "plt.xticks(rotation=45)\n",
    "plt.legend(title=\"Age group\")\n",
    "plt.tight_layout()"
   ]
  },
  {
   "cell_type": "markdown",
   "id": "9a6009a4",
   "metadata": {},
   "source": [
    "## generating the age distribution file\n",
    "\n"
   ]
  },
  {
   "cell_type": "code",
   "execution_count": 11,
   "id": "2fc0a5c3",
   "metadata": {},
   "outputs": [
    {
     "data": {
      "application/vnd.microsoft.datawrangler.viewer.v0+json": {
       "columns": [
        {
         "name": "index",
         "rawType": "int64",
         "type": "integer"
        },
        {
         "name": "age_group",
         "rawType": "object",
         "type": "string"
        },
        {
         "name": "date",
         "rawType": "object",
         "type": "string"
        },
        {
         "name": "state",
         "rawType": "int64",
         "type": "integer"
        },
        {
         "name": "onsets",
         "rawType": "float64",
         "type": "float"
        },
        {
         "name": "reported",
         "rawType": "float64",
         "type": "float"
        }
       ],
       "conversionMethod": "pd.DataFrame",
       "ref": "4d389a15-ea0d-491c-a091-24d2d874b68d",
       "rows": [
        [
         "0",
         "0-14",
         "2020-02-19",
         "1",
         "0.0",
         "0.0"
        ],
        [
         "1",
         "0-14",
         "2020-02-19",
         "2",
         "0.0",
         "0.0"
        ],
        [
         "2",
         "0-14",
         "2020-02-19",
         "3",
         "0.0",
         "0.0"
        ],
        [
         "3",
         "0-14",
         "2020-02-19",
         "4",
         "0.0",
         "0.0"
        ],
        [
         "4",
         "0-14",
         "2020-02-19",
         "5",
         "0.0",
         "0.0"
        ]
       ],
       "shape": {
        "columns": 5,
        "rows": 5
       }
      },
      "text/html": [
       "<div>\n",
       "<style scoped>\n",
       "    .dataframe tbody tr th:only-of-type {\n",
       "        vertical-align: middle;\n",
       "    }\n",
       "\n",
       "    .dataframe tbody tr th {\n",
       "        vertical-align: top;\n",
       "    }\n",
       "\n",
       "    .dataframe thead th {\n",
       "        text-align: right;\n",
       "    }\n",
       "</style>\n",
       "<table border=\"1\" class=\"dataframe\">\n",
       "  <thead>\n",
       "    <tr style=\"text-align: right;\">\n",
       "      <th></th>\n",
       "      <th>age_group</th>\n",
       "      <th>date</th>\n",
       "      <th>state</th>\n",
       "      <th>onsets</th>\n",
       "      <th>reported</th>\n",
       "    </tr>\n",
       "  </thead>\n",
       "  <tbody>\n",
       "    <tr>\n",
       "      <th>0</th>\n",
       "      <td>0-14</td>\n",
       "      <td>2020-02-19</td>\n",
       "      <td>1</td>\n",
       "      <td>0.0</td>\n",
       "      <td>0.0</td>\n",
       "    </tr>\n",
       "    <tr>\n",
       "      <th>1</th>\n",
       "      <td>0-14</td>\n",
       "      <td>2020-02-19</td>\n",
       "      <td>2</td>\n",
       "      <td>0.0</td>\n",
       "      <td>0.0</td>\n",
       "    </tr>\n",
       "    <tr>\n",
       "      <th>2</th>\n",
       "      <td>0-14</td>\n",
       "      <td>2020-02-19</td>\n",
       "      <td>3</td>\n",
       "      <td>0.0</td>\n",
       "      <td>0.0</td>\n",
       "    </tr>\n",
       "    <tr>\n",
       "      <th>3</th>\n",
       "      <td>0-14</td>\n",
       "      <td>2020-02-19</td>\n",
       "      <td>4</td>\n",
       "      <td>0.0</td>\n",
       "      <td>0.0</td>\n",
       "    </tr>\n",
       "    <tr>\n",
       "      <th>4</th>\n",
       "      <td>0-14</td>\n",
       "      <td>2020-02-19</td>\n",
       "      <td>5</td>\n",
       "      <td>0.0</td>\n",
       "      <td>0.0</td>\n",
       "    </tr>\n",
       "  </tbody>\n",
       "</table>\n",
       "</div>"
      ],
      "text/plain": [
       "  age_group        date  state  onsets  reported\n",
       "0      0-14  2020-02-19      1     0.0       0.0\n",
       "1      0-14  2020-02-19      2     0.0       0.0\n",
       "2      0-14  2020-02-19      3     0.0       0.0\n",
       "3      0-14  2020-02-19      4     0.0       0.0\n",
       "4      0-14  2020-02-19      5     0.0       0.0"
      ]
     },
     "execution_count": 11,
     "metadata": {},
     "output_type": "execute_result"
    }
   ],
   "source": [
    "final_df = pd.read_csv(\"./data/state_data.csv\")\n",
    "final_df.head()"
   ]
  },
  {
   "cell_type": "code",
   "execution_count": null,
   "id": "18211b5b",
   "metadata": {},
   "outputs": [
    {
     "data": {
      "application/vnd.microsoft.datawrangler.viewer.v0+json": {
       "columns": [
        {
         "name": "index",
         "rawType": "int64",
         "type": "integer"
        },
        {
         "name": "age_group",
         "rawType": "object",
         "type": "string"
        },
        {
         "name": "date",
         "rawType": "object",
         "type": "string"
        },
        {
         "name": "onsets",
         "rawType": "float64",
         "type": "float"
        },
        {
         "name": "reported",
         "rawType": "float64",
         "type": "float"
        }
       ],
       "conversionMethod": "pd.DataFrame",
       "ref": "41148bb6-07b2-4aec-8e05-1317f632cc19",
       "rows": [
        [
         "0",
         "0-14",
         "2020-02-19",
         "0.0",
         "0.0"
        ],
        [
         "1",
         "0-14",
         "2020-02-22",
         "0.0",
         "0.0"
        ],
        [
         "2",
         "0-14",
         "2020-02-23",
         "0.0",
         "0.0"
        ],
        [
         "3",
         "0-14",
         "2020-02-25",
         "0.0",
         "0.0"
        ],
        [
         "4",
         "0-14",
         "2020-02-26",
         "0.0",
         "0.0"
        ]
       ],
       "shape": {
        "columns": 4,
        "rows": 5
       }
      },
      "text/html": [
       "<div>\n",
       "<style scoped>\n",
       "    .dataframe tbody tr th:only-of-type {\n",
       "        vertical-align: middle;\n",
       "    }\n",
       "\n",
       "    .dataframe tbody tr th {\n",
       "        vertical-align: top;\n",
       "    }\n",
       "\n",
       "    .dataframe thead th {\n",
       "        text-align: right;\n",
       "    }\n",
       "</style>\n",
       "<table border=\"1\" class=\"dataframe\">\n",
       "  <thead>\n",
       "    <tr style=\"text-align: right;\">\n",
       "      <th></th>\n",
       "      <th>age_group</th>\n",
       "      <th>date</th>\n",
       "      <th>onsets</th>\n",
       "      <th>reported</th>\n",
       "    </tr>\n",
       "  </thead>\n",
       "  <tbody>\n",
       "    <tr>\n",
       "      <th>0</th>\n",
       "      <td>0-14</td>\n",
       "      <td>2020-02-19</td>\n",
       "      <td>0.0</td>\n",
       "      <td>0.0</td>\n",
       "    </tr>\n",
       "    <tr>\n",
       "      <th>1</th>\n",
       "      <td>0-14</td>\n",
       "      <td>2020-02-22</td>\n",
       "      <td>0.0</td>\n",
       "      <td>0.0</td>\n",
       "    </tr>\n",
       "    <tr>\n",
       "      <th>2</th>\n",
       "      <td>0-14</td>\n",
       "      <td>2020-02-23</td>\n",
       "      <td>0.0</td>\n",
       "      <td>0.0</td>\n",
       "    </tr>\n",
       "    <tr>\n",
       "      <th>3</th>\n",
       "      <td>0-14</td>\n",
       "      <td>2020-02-25</td>\n",
       "      <td>0.0</td>\n",
       "      <td>0.0</td>\n",
       "    </tr>\n",
       "    <tr>\n",
       "      <th>4</th>\n",
       "      <td>0-14</td>\n",
       "      <td>2020-02-26</td>\n",
       "      <td>0.0</td>\n",
       "      <td>0.0</td>\n",
       "    </tr>\n",
       "  </tbody>\n",
       "</table>\n",
       "</div>"
      ],
      "text/plain": [
       "  age_group        date  onsets  reported\n",
       "0      0-14  2020-02-19     0.0       0.0\n",
       "1      0-14  2020-02-22     0.0       0.0\n",
       "2      0-14  2020-02-23     0.0       0.0\n",
       "3      0-14  2020-02-25     0.0       0.0\n",
       "4      0-14  2020-02-26     0.0       0.0"
      ]
     },
     "execution_count": 12,
     "metadata": {},
     "output_type": "execute_result"
    }
   ],
   "source": [
    "final_df.groupby"
   ]
  },
  {
   "cell_type": "code",
   "execution_count": 1,
   "id": "9be42d02",
   "metadata": {},
   "outputs": [],
   "source": [
    "import pandas as pd\n",
    "\n",
    "data = pd.read_csv(\"./data/age_group_data.csv\")"
   ]
  },
  {
   "cell_type": "code",
   "execution_count": 2,
   "id": "20bd0f1f",
   "metadata": {},
   "outputs": [],
   "source": [
    "data_mty = pd.read_csv(\"./data/age_group_data_mty.csv\")"
   ]
  },
  {
   "cell_type": "code",
   "execution_count": 5,
   "id": "08299844",
   "metadata": {},
   "outputs": [
    {
     "data": {
      "application/vnd.microsoft.datawrangler.viewer.v0+json": {
       "columns": [
        {
         "name": "index",
         "rawType": "int64",
         "type": "integer"
        },
        {
         "name": "age_group",
         "rawType": "object",
         "type": "string"
        },
        {
         "name": "date",
         "rawType": "object",
         "type": "string"
        },
        {
         "name": "onsets",
         "rawType": "float64",
         "type": "float"
        },
        {
         "name": "reported",
         "rawType": "float64",
         "type": "float"
        }
       ],
       "conversionMethod": "pd.DataFrame",
       "ref": "c09132db-0a85-4395-9803-213bc12c89ff",
       "rows": [
        [
         "0",
         "0-14",
         "2020-02-19",
         "0.0",
         "0.0"
        ],
        [
         "1",
         "0-14",
         "2020-02-22",
         "0.0",
         "0.0"
        ],
        [
         "2",
         "0-14",
         "2020-02-23",
         "0.0",
         "0.0"
        ],
        [
         "3",
         "0-14",
         "2020-02-25",
         "0.0",
         "0.0"
        ],
        [
         "4",
         "0-14",
         "2020-02-26",
         "0.0",
         "0.0"
        ]
       ],
       "shape": {
        "columns": 4,
        "rows": 5
       }
      },
      "text/html": [
       "<div>\n",
       "<style scoped>\n",
       "    .dataframe tbody tr th:only-of-type {\n",
       "        vertical-align: middle;\n",
       "    }\n",
       "\n",
       "    .dataframe tbody tr th {\n",
       "        vertical-align: top;\n",
       "    }\n",
       "\n",
       "    .dataframe thead th {\n",
       "        text-align: right;\n",
       "    }\n",
       "</style>\n",
       "<table border=\"1\" class=\"dataframe\">\n",
       "  <thead>\n",
       "    <tr style=\"text-align: right;\">\n",
       "      <th></th>\n",
       "      <th>age_group</th>\n",
       "      <th>date</th>\n",
       "      <th>onsets</th>\n",
       "      <th>reported</th>\n",
       "    </tr>\n",
       "  </thead>\n",
       "  <tbody>\n",
       "    <tr>\n",
       "      <th>0</th>\n",
       "      <td>0-14</td>\n",
       "      <td>2020-02-19</td>\n",
       "      <td>0.0</td>\n",
       "      <td>0.0</td>\n",
       "    </tr>\n",
       "    <tr>\n",
       "      <th>1</th>\n",
       "      <td>0-14</td>\n",
       "      <td>2020-02-22</td>\n",
       "      <td>0.0</td>\n",
       "      <td>0.0</td>\n",
       "    </tr>\n",
       "    <tr>\n",
       "      <th>2</th>\n",
       "      <td>0-14</td>\n",
       "      <td>2020-02-23</td>\n",
       "      <td>0.0</td>\n",
       "      <td>0.0</td>\n",
       "    </tr>\n",
       "    <tr>\n",
       "      <th>3</th>\n",
       "      <td>0-14</td>\n",
       "      <td>2020-02-25</td>\n",
       "      <td>0.0</td>\n",
       "      <td>0.0</td>\n",
       "    </tr>\n",
       "    <tr>\n",
       "      <th>4</th>\n",
       "      <td>0-14</td>\n",
       "      <td>2020-02-26</td>\n",
       "      <td>0.0</td>\n",
       "      <td>0.0</td>\n",
       "    </tr>\n",
       "  </tbody>\n",
       "</table>\n",
       "</div>"
      ],
      "text/plain": [
       "  age_group        date  onsets  reported\n",
       "0      0-14  2020-02-19     0.0       0.0\n",
       "1      0-14  2020-02-22     0.0       0.0\n",
       "2      0-14  2020-02-23     0.0       0.0\n",
       "3      0-14  2020-02-25     0.0       0.0\n",
       "4      0-14  2020-02-26     0.0       0.0"
      ]
     },
     "execution_count": 5,
     "metadata": {},
     "output_type": "execute_result"
    }
   ],
   "source": [
    "data.head()"
   ]
  },
  {
   "cell_type": "code",
   "execution_count": 6,
   "id": "b2d47817",
   "metadata": {},
   "outputs": [
    {
     "data": {
      "application/vnd.microsoft.datawrangler.viewer.v0+json": {
       "columns": [
        {
         "name": "index",
         "rawType": "int64",
         "type": "integer"
        },
        {
         "name": "age_group",
         "rawType": "object",
         "type": "string"
        },
        {
         "name": "date",
         "rawType": "object",
         "type": "string"
        },
        {
         "name": "state",
         "rawType": "int64",
         "type": "integer"
        },
        {
         "name": "onsets",
         "rawType": "float64",
         "type": "float"
        },
        {
         "name": "reported",
         "rawType": "float64",
         "type": "float"
        }
       ],
       "conversionMethod": "pd.DataFrame",
       "ref": "c9dd07da-7440-44ac-a40e-9c41519fca6a",
       "rows": [
        [
         "0",
         "0-14",
         "2020-02-19",
         "19",
         "0.0",
         "0.0"
        ],
        [
         "1",
         "0-14",
         "2020-02-22",
         "19",
         "0.0",
         "0.0"
        ],
        [
         "2",
         "0-14",
         "2020-02-23",
         "19",
         "0.0",
         "0.0"
        ],
        [
         "3",
         "0-14",
         "2020-02-25",
         "19",
         "0.0",
         "0.0"
        ],
        [
         "4",
         "0-14",
         "2020-02-26",
         "19",
         "0.0",
         "0.0"
        ]
       ],
       "shape": {
        "columns": 5,
        "rows": 5
       }
      },
      "text/html": [
       "<div>\n",
       "<style scoped>\n",
       "    .dataframe tbody tr th:only-of-type {\n",
       "        vertical-align: middle;\n",
       "    }\n",
       "\n",
       "    .dataframe tbody tr th {\n",
       "        vertical-align: top;\n",
       "    }\n",
       "\n",
       "    .dataframe thead th {\n",
       "        text-align: right;\n",
       "    }\n",
       "</style>\n",
       "<table border=\"1\" class=\"dataframe\">\n",
       "  <thead>\n",
       "    <tr style=\"text-align: right;\">\n",
       "      <th></th>\n",
       "      <th>age_group</th>\n",
       "      <th>date</th>\n",
       "      <th>state</th>\n",
       "      <th>onsets</th>\n",
       "      <th>reported</th>\n",
       "    </tr>\n",
       "  </thead>\n",
       "  <tbody>\n",
       "    <tr>\n",
       "      <th>0</th>\n",
       "      <td>0-14</td>\n",
       "      <td>2020-02-19</td>\n",
       "      <td>19</td>\n",
       "      <td>0.0</td>\n",
       "      <td>0.0</td>\n",
       "    </tr>\n",
       "    <tr>\n",
       "      <th>1</th>\n",
       "      <td>0-14</td>\n",
       "      <td>2020-02-22</td>\n",
       "      <td>19</td>\n",
       "      <td>0.0</td>\n",
       "      <td>0.0</td>\n",
       "    </tr>\n",
       "    <tr>\n",
       "      <th>2</th>\n",
       "      <td>0-14</td>\n",
       "      <td>2020-02-23</td>\n",
       "      <td>19</td>\n",
       "      <td>0.0</td>\n",
       "      <td>0.0</td>\n",
       "    </tr>\n",
       "    <tr>\n",
       "      <th>3</th>\n",
       "      <td>0-14</td>\n",
       "      <td>2020-02-25</td>\n",
       "      <td>19</td>\n",
       "      <td>0.0</td>\n",
       "      <td>0.0</td>\n",
       "    </tr>\n",
       "    <tr>\n",
       "      <th>4</th>\n",
       "      <td>0-14</td>\n",
       "      <td>2020-02-26</td>\n",
       "      <td>19</td>\n",
       "      <td>0.0</td>\n",
       "      <td>0.0</td>\n",
       "    </tr>\n",
       "  </tbody>\n",
       "</table>\n",
       "</div>"
      ],
      "text/plain": [
       "  age_group        date  state  onsets  reported\n",
       "0      0-14  2020-02-19     19     0.0       0.0\n",
       "1      0-14  2020-02-22     19     0.0       0.0\n",
       "2      0-14  2020-02-23     19     0.0       0.0\n",
       "3      0-14  2020-02-25     19     0.0       0.0\n",
       "4      0-14  2020-02-26     19     0.0       0.0"
      ]
     },
     "execution_count": 6,
     "metadata": {},
     "output_type": "execute_result"
    }
   ],
   "source": [
    "data_mty.head()"
   ]
  },
  {
   "cell_type": "code",
   "execution_count": 16,
   "id": "9470cea6",
   "metadata": {},
   "outputs": [
    {
     "data": {
      "text/plain": [
       "<bound method Series.sum of date\n",
       "2020-02-19    False\n",
       "2020-10-01    False\n",
       "2020-10-09    False\n",
       "2020-10-08    False\n",
       "2020-10-07    False\n",
       "              ...  \n",
       "2020-06-12    False\n",
       "2020-06-11    False\n",
       "2020-06-10    False\n",
       "2020-06-09    False\n",
       "2021-01-24    False\n",
       "Name: count, Length: 338, dtype: bool>"
      ]
     },
     "execution_count": 16,
     "metadata": {},
     "output_type": "execute_result"
    }
   ],
   "source": [
    "data_age = pd.read_csv(\"./data/age_group_data.csv\")\n",
    "(data_age[data_age[\"age_group\"] == \"80+\"][\"date\"].value_counts() >1).sum"
   ]
  },
  {
   "cell_type": "code",
   "execution_count": 12,
   "id": "c06dacf5",
   "metadata": {},
   "outputs": [
    {
     "data": {
      "text/plain": [
       "31393.0"
      ]
     },
     "execution_count": 12,
     "metadata": {},
     "output_type": "execute_result"
    }
   ],
   "source": [
    "data_age[data_age[\"age_group\"] == \"0-14\"][\"reported\"].sum()"
   ]
  },
  {
   "cell_type": "code",
   "execution_count": 13,
   "id": "ffd38a46",
   "metadata": {},
   "outputs": [
    {
     "name": "stderr",
     "output_type": "stream",
     "text": [
      "No artists with labels found to put in legend.  Note that artists whose label start with an underscore are ignored when legend() is called with no argument.\n"
     ]
    },
    {
     "data": {
      "image/png": "[encoded data removed]",
      "text/plain": [
       "<Figure size 1200x600 with 1 Axes>"
      ]
     },
     "metadata": {},
     "output_type": "display_data"
    }
   ],
   "source": [
    "#plot data age thorugh time\n",
    "import matplotlib.pyplot as plt\n",
    "import seaborn as sns\n",
    "plt.figure(figsize=(12, 6))\n",
    "sns.set_style(\"whitegrid\") \n",
    "sns.set_palette(\"pastel\")\n",
    "sns.histplot(data=data_age, x=\"date\", y=\"reported\", hue=\"age_group\")\n",
    "plt.title(\"Reported cases per age group\")\n",
    "plt.xlabel(\"Date\")\n",
    "plt.ylabel(\"Reported cases\")\n",
    "plt.xticks(rotation=45)\n",
    "plt.legend(title=\"Age group\")\n",
    "plt.tight_layout()"
   ]
  },
  {
   "cell_type": "code",
   "execution_count": null,
   "id": "94d24092",
   "metadata": {},
   "outputs": [],
   "source": []
  }
 ],
 "metadata": {
  "kernelspec": {
   "display_name": "Python 3",
   "language": "python",
   "name": "python3"
  },
  "language_info": {
   "codemirror_mode": {
    "name": "ipython",
    "version": 3
   },
   "file_extension": ".py",
   "mimetype": "text/x-python",
   "name": "python",
   "nbconvert_exporter": "python",
   "pygments_lexer": "ipython3",
   "version": "3.9.6"
  }
 },
 "nbformat": 4,
 "nbformat_minor": 5
}
