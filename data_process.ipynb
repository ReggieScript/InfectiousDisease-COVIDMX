{
 "cells": [
  {
   "cell_type": "code",
   "execution_count": 1,
   "id": "70f0e3dd",
   "metadata": {},
   "outputs": [],
   "source": [
    "import pandas as pd\n",
    "import numpy as np\n",
    "import os"
   ]
  },
  {
   "cell_type": "code",
   "execution_count": 3,
   "id": "d901aeae",
   "metadata": {},
   "outputs": [
    {
     "name": "stderr",
     "output_type": "stream",
     "text": [
      "/var/folders/_f/sc03zbpx4wnbdctrkv1pq2lh0000gn/T/ipykernel_7867/3042633106.py:1: DtypeWarning: Columns (38) have mixed types. Specify dtype option on import or set low_memory=False.\n",
      "  full_data = pd.read_csv('./data/COVID19MEXICO2020.csv')\n"
     ]
    }
   ],
   "source": [
    "full_data = pd.read_csv('./data/COVID19MEXICO2020.csv')"
   ]
  },
  {
   "cell_type": "code",
   "execution_count": 4,
   "id": "a7b8bd94",
   "metadata": {},
   "outputs": [
    {
     "data": {
      "application/vnd.microsoft.datawrangler.viewer.v0+json": {
       "columns": [
        {
         "name": "index",
         "rawType": "int64",
         "type": "integer"
        },
        {
         "name": "FECHA_ACTUALIZACION",
         "rawType": "object",
         "type": "string"
        },
        {
         "name": "ID_REGISTRO",
         "rawType": "object",
         "type": "string"
        },
        {
         "name": "ORIGEN",
         "rawType": "int64",
         "type": "integer"
        },
        {
         "name": "SECTOR",
         "rawType": "int64",
         "type": "integer"
        },
        {
         "name": "ENTIDAD_UM",
         "rawType": "int64",
         "type": "integer"
        },
        {
         "name": "SEXO",
         "rawType": "int64",
         "type": "integer"
        },
        {
         "name": "ENTIDAD_NAC",
         "rawType": "int64",
         "type": "integer"
        },
        {
         "name": "ENTIDAD_RES",
         "rawType": "int64",
         "type": "integer"
        },
        {
         "name": "MUNICIPIO_RES",
         "rawType": "int64",
         "type": "integer"
        },
        {
         "name": "TIPO_PACIENTE",
         "rawType": "int64",
         "type": "integer"
        },
        {
         "name": "FECHA_INGRESO",
         "rawType": "object",
         "type": "string"
        },
        {
         "name": "FECHA_SINTOMAS",
         "rawType": "object",
         "type": "string"
        },
        {
         "name": "FECHA_DEF",
         "rawType": "object",
         "type": "string"
        },
        {
         "name": "INTUBADO",
         "rawType": "int64",
         "type": "integer"
        },
        {
         "name": "NEUMONIA",
         "rawType": "int64",
         "type": "integer"
        },
        {
         "name": "EDAD",
         "rawType": "int64",
         "type": "integer"
        },
        {
         "name": "NACIONALIDAD",
         "rawType": "int64",
         "type": "integer"
        },
        {
         "name": "EMBARAZO",
         "rawType": "int64",
         "type": "integer"
        },
        {
         "name": "HABLA_LENGUA_INDIG",
         "rawType": "int64",
         "type": "integer"
        },
        {
         "name": "INDIGENA",
         "rawType": "int64",
         "type": "integer"
        },
        {
         "name": "DIABETES",
         "rawType": "int64",
         "type": "integer"
        },
        {
         "name": "EPOC",
         "rawType": "int64",
         "type": "integer"
        },
        {
         "name": "ASMA",
         "rawType": "int64",
         "type": "integer"
        },
        {
         "name": "INMUSUPR",
         "rawType": "int64",
         "type": "integer"
        },
        {
         "name": "HIPERTENSION",
         "rawType": "int64",
         "type": "integer"
        },
        {
         "name": "OTRA_COM",
         "rawType": "int64",
         "type": "integer"
        },
        {
         "name": "CARDIOVASCULAR",
         "rawType": "int64",
         "type": "integer"
        },
        {
         "name": "OBESIDAD",
         "rawType": "int64",
         "type": "integer"
        },
        {
         "name": "RENAL_CRONICA",
         "rawType": "int64",
         "type": "integer"
        },
        {
         "name": "TABAQUISMO",
         "rawType": "int64",
         "type": "integer"
        },
        {
         "name": "OTRO_CASO",
         "rawType": "int64",
         "type": "integer"
        },
        {
         "name": "TOMA_MUESTRA_LAB",
         "rawType": "int64",
         "type": "integer"
        },
        {
         "name": "RESULTADO_LAB",
         "rawType": "int64",
         "type": "integer"
        },
        {
         "name": "TOMA_MUESTRA_ANTIGENO",
         "rawType": "int64",
         "type": "integer"
        },
        {
         "name": "RESULTADO_ANTIGENO",
         "rawType": "int64",
         "type": "integer"
        },
        {
         "name": "CLASIFICACION_FINAL",
         "rawType": "int64",
         "type": "integer"
        },
        {
         "name": "MIGRANTE",
         "rawType": "int64",
         "type": "integer"
        },
        {
         "name": "PAIS_NACIONALIDAD",
         "rawType": "object",
         "type": "string"
        },
        {
         "name": "PAIS_ORIGEN",
         "rawType": "object",
         "type": "string"
        },
        {
         "name": "UCI",
         "rawType": "int64",
         "type": "integer"
        }
       ],
       "conversionMethod": "pd.DataFrame",
       "ref": "0272c1eb-70ce-4542-ae9c-40b270d69ea4",
       "rows": [
        [
         "0",
         "2021-10-31",
         "z4d6fe",
         "1",
         "6",
         "24",
         "1",
         "24",
         "24",
         "28",
         "1",
         "2020-12-06",
         "2020-11-30",
         "9999-99-99",
         "97",
         "2",
         "55",
         "1",
         "2",
         "2",
         "2",
         "1",
         "2",
         "2",
         "2",
         "2",
         "2",
         "2",
         "2",
         "2",
         "2",
         "2",
         "1",
         "1",
         "2",
         "97",
         "3",
         "99",
         "México",
         "97",
         "97"
        ],
        [
         "1",
         "2021-10-31",
         "z2a3cf",
         "1",
         "6",
         "24",
         "2",
         "24",
         "24",
         "28",
         "1",
         "2020-02-20",
         "2020-02-18",
         "9999-99-99",
         "97",
         "2",
         "59",
         "1",
         "97",
         "2",
         "2",
         "2",
         "2",
         "2",
         "2",
         "2",
         "2",
         "2",
         "2",
         "2",
         "2",
         "1",
         "2",
         "97",
         "2",
         "97",
         "6",
         "99",
         "México",
         "97",
         "97"
        ],
        [
         "2",
         "2021-10-31",
         "z1e370",
         "1",
         "12",
         "14",
         "1",
         "14",
         "14",
         "85",
         "1",
         "2020-04-22",
         "2020-04-18",
         "9999-99-99",
         "97",
         "2",
         "42",
         "1",
         "2",
         "2",
         "2",
         "2",
         "2",
         "1",
         "2",
         "2",
         "2",
         "2",
         "2",
         "2",
         "2",
         "2",
         "1",
         "2",
         "2",
         "97",
         "7",
         "99",
         "México",
         "97",
         "97"
        ],
        [
         "3",
         "2021-10-31",
         "z3bf80",
         "2",
         "12",
         "8",
         "2",
         "8",
         "8",
         "37",
         "1",
         "2020-07-28",
         "2020-07-20",
         "9999-99-99",
         "97",
         "2",
         "35",
         "1",
         "97",
         "2",
         "2",
         "2",
         "2",
         "2",
         "2",
         "2",
         "2",
         "2",
         "2",
         "2",
         "2",
         "2",
         "1",
         "1",
         "2",
         "97",
         "3",
         "99",
         "México",
         "97",
         "97"
        ],
        [
         "4",
         "2021-10-31",
         "zz7067",
         "1",
         "12",
         "9",
         "2",
         "9",
         "9",
         "7",
         "1",
         "2020-08-18",
         "2020-08-17",
         "9999-99-99",
         "97",
         "2",
         "51",
         "1",
         "97",
         "2",
         "2",
         "2",
         "2",
         "2",
         "2",
         "1",
         "2",
         "2",
         "2",
         "2",
         "2",
         "2",
         "1",
         "2",
         "2",
         "97",
         "7",
         "99",
         "México",
         "97",
         "97"
        ]
       ],
       "shape": {
        "columns": 40,
        "rows": 5
       }
      },
      "text/html": [
       "<div>\n",
       "<style scoped>\n",
       "    .dataframe tbody tr th:only-of-type {\n",
       "        vertical-align: middle;\n",
       "    }\n",
       "\n",
       "    .dataframe tbody tr th {\n",
       "        vertical-align: top;\n",
       "    }\n",
       "\n",
       "    .dataframe thead th {\n",
       "        text-align: right;\n",
       "    }\n",
       "</style>\n",
       "<table border=\"1\" class=\"dataframe\">\n",
       "  <thead>\n",
       "    <tr style=\"text-align: right;\">\n",
       "      <th></th>\n",
       "      <th>FECHA_ACTUALIZACION</th>\n",
       "      <th>ID_REGISTRO</th>\n",
       "      <th>ORIGEN</th>\n",
       "      <th>SECTOR</th>\n",
       "      <th>ENTIDAD_UM</th>\n",
       "      <th>SEXO</th>\n",
       "      <th>ENTIDAD_NAC</th>\n",
       "      <th>ENTIDAD_RES</th>\n",
       "      <th>MUNICIPIO_RES</th>\n",
       "      <th>TIPO_PACIENTE</th>\n",
       "      <th>...</th>\n",
       "      <th>OTRO_CASO</th>\n",
       "      <th>TOMA_MUESTRA_LAB</th>\n",
       "      <th>RESULTADO_LAB</th>\n",
       "      <th>TOMA_MUESTRA_ANTIGENO</th>\n",
       "      <th>RESULTADO_ANTIGENO</th>\n",
       "      <th>CLASIFICACION_FINAL</th>\n",
       "      <th>MIGRANTE</th>\n",
       "      <th>PAIS_NACIONALIDAD</th>\n",
       "      <th>PAIS_ORIGEN</th>\n",
       "      <th>UCI</th>\n",
       "    </tr>\n",
       "  </thead>\n",
       "  <tbody>\n",
       "    <tr>\n",
       "      <th>0</th>\n",
       "      <td>2021-10-31</td>\n",
       "      <td>z4d6fe</td>\n",
       "      <td>1</td>\n",
       "      <td>6</td>\n",
       "      <td>24</td>\n",
       "      <td>1</td>\n",
       "      <td>24</td>\n",
       "      <td>24</td>\n",
       "      <td>28</td>\n",
       "      <td>1</td>\n",
       "      <td>...</td>\n",
       "      <td>2</td>\n",
       "      <td>1</td>\n",
       "      <td>1</td>\n",
       "      <td>2</td>\n",
       "      <td>97</td>\n",
       "      <td>3</td>\n",
       "      <td>99</td>\n",
       "      <td>México</td>\n",
       "      <td>97</td>\n",
       "      <td>97</td>\n",
       "    </tr>\n",
       "    <tr>\n",
       "      <th>1</th>\n",
       "      <td>2021-10-31</td>\n",
       "      <td>z2a3cf</td>\n",
       "      <td>1</td>\n",
       "      <td>6</td>\n",
       "      <td>24</td>\n",
       "      <td>2</td>\n",
       "      <td>24</td>\n",
       "      <td>24</td>\n",
       "      <td>28</td>\n",
       "      <td>1</td>\n",
       "      <td>...</td>\n",
       "      <td>1</td>\n",
       "      <td>2</td>\n",
       "      <td>97</td>\n",
       "      <td>2</td>\n",
       "      <td>97</td>\n",
       "      <td>6</td>\n",
       "      <td>99</td>\n",
       "      <td>México</td>\n",
       "      <td>97</td>\n",
       "      <td>97</td>\n",
       "    </tr>\n",
       "    <tr>\n",
       "      <th>2</th>\n",
       "      <td>2021-10-31</td>\n",
       "      <td>z1e370</td>\n",
       "      <td>1</td>\n",
       "      <td>12</td>\n",
       "      <td>14</td>\n",
       "      <td>1</td>\n",
       "      <td>14</td>\n",
       "      <td>14</td>\n",
       "      <td>85</td>\n",
       "      <td>1</td>\n",
       "      <td>...</td>\n",
       "      <td>2</td>\n",
       "      <td>1</td>\n",
       "      <td>2</td>\n",
       "      <td>2</td>\n",
       "      <td>97</td>\n",
       "      <td>7</td>\n",
       "      <td>99</td>\n",
       "      <td>México</td>\n",
       "      <td>97</td>\n",
       "      <td>97</td>\n",
       "    </tr>\n",
       "    <tr>\n",
       "      <th>3</th>\n",
       "      <td>2021-10-31</td>\n",
       "      <td>z3bf80</td>\n",
       "      <td>2</td>\n",
       "      <td>12</td>\n",
       "      <td>8</td>\n",
       "      <td>2</td>\n",
       "      <td>8</td>\n",
       "      <td>8</td>\n",
       "      <td>37</td>\n",
       "      <td>1</td>\n",
       "      <td>...</td>\n",
       "      <td>2</td>\n",
       "      <td>1</td>\n",
       "      <td>1</td>\n",
       "      <td>2</td>\n",
       "      <td>97</td>\n",
       "      <td>3</td>\n",
       "      <td>99</td>\n",
       "      <td>México</td>\n",
       "      <td>97</td>\n",
       "      <td>97</td>\n",
       "    </tr>\n",
       "    <tr>\n",
       "      <th>4</th>\n",
       "      <td>2021-10-31</td>\n",
       "      <td>zz7067</td>\n",
       "      <td>1</td>\n",
       "      <td>12</td>\n",
       "      <td>9</td>\n",
       "      <td>2</td>\n",
       "      <td>9</td>\n",
       "      <td>9</td>\n",
       "      <td>7</td>\n",
       "      <td>1</td>\n",
       "      <td>...</td>\n",
       "      <td>2</td>\n",
       "      <td>1</td>\n",
       "      <td>2</td>\n",
       "      <td>2</td>\n",
       "      <td>97</td>\n",
       "      <td>7</td>\n",
       "      <td>99</td>\n",
       "      <td>México</td>\n",
       "      <td>97</td>\n",
       "      <td>97</td>\n",
       "    </tr>\n",
       "  </tbody>\n",
       "</table>\n",
       "<p>5 rows × 40 columns</p>\n",
       "</div>"
      ],
      "text/plain": [
       "  FECHA_ACTUALIZACION ID_REGISTRO  ORIGEN  SECTOR  ENTIDAD_UM  SEXO  \\\n",
       "0          2021-10-31      z4d6fe       1       6          24     1   \n",
       "1          2021-10-31      z2a3cf       1       6          24     2   \n",
       "2          2021-10-31      z1e370       1      12          14     1   \n",
       "3          2021-10-31      z3bf80       2      12           8     2   \n",
       "4          2021-10-31      zz7067       1      12           9     2   \n",
       "\n",
       "   ENTIDAD_NAC  ENTIDAD_RES  MUNICIPIO_RES  TIPO_PACIENTE  ... OTRO_CASO  \\\n",
       "0           24           24             28              1  ...         2   \n",
       "1           24           24             28              1  ...         1   \n",
       "2           14           14             85              1  ...         2   \n",
       "3            8            8             37              1  ...         2   \n",
       "4            9            9              7              1  ...         2   \n",
       "\n",
       "  TOMA_MUESTRA_LAB RESULTADO_LAB  TOMA_MUESTRA_ANTIGENO  RESULTADO_ANTIGENO  \\\n",
       "0                1             1                      2                  97   \n",
       "1                2            97                      2                  97   \n",
       "2                1             2                      2                  97   \n",
       "3                1             1                      2                  97   \n",
       "4                1             2                      2                  97   \n",
       "\n",
       "   CLASIFICACION_FINAL  MIGRANTE  PAIS_NACIONALIDAD  PAIS_ORIGEN  UCI  \n",
       "0                    3        99             México           97   97  \n",
       "1                    6        99             México           97   97  \n",
       "2                    7        99             México           97   97  \n",
       "3                    3        99             México           97   97  \n",
       "4                    7        99             México           97   97  \n",
       "\n",
       "[5 rows x 40 columns]"
      ]
     },
     "execution_count": 4,
     "metadata": {},
     "output_type": "execute_result"
    }
   ],
   "source": [
    "full_data.head()"
   ]
  },
  {
   "cell_type": "code",
   "execution_count": 5,
   "id": "a9b320f7",
   "metadata": {},
   "outputs": [
    {
     "data": {
      "text/plain": [
       "Index(['FECHA_ACTUALIZACION', 'ID_REGISTRO', 'ORIGEN', 'SECTOR', 'ENTIDAD_UM',\n",
       "       'SEXO', 'ENTIDAD_NAC', 'ENTIDAD_RES', 'MUNICIPIO_RES', 'TIPO_PACIENTE',\n",
       "       'FECHA_INGRESO', 'FECHA_SINTOMAS', 'FECHA_DEF', 'INTUBADO', 'NEUMONIA',\n",
       "       'EDAD', 'NACIONALIDAD', 'EMBARAZO', 'HABLA_LENGUA_INDIG', 'INDIGENA',\n",
       "       'DIABETES', 'EPOC', 'ASMA', 'INMUSUPR', 'HIPERTENSION', 'OTRA_COM',\n",
       "       'CARDIOVASCULAR', 'OBESIDAD', 'RENAL_CRONICA', 'TABAQUISMO',\n",
       "       'OTRO_CASO', 'TOMA_MUESTRA_LAB', 'RESULTADO_LAB',\n",
       "       'TOMA_MUESTRA_ANTIGENO', 'RESULTADO_ANTIGENO', 'CLASIFICACION_FINAL',\n",
       "       'MIGRANTE', 'PAIS_NACIONALIDAD', 'PAIS_ORIGEN', 'UCI'],\n",
       "      dtype='object')"
      ]
     },
     "execution_count": 5,
     "metadata": {},
     "output_type": "execute_result"
    }
   ],
   "source": [
    "full_data.columns"
   ]
  },
  {
   "cell_type": "code",
   "execution_count": 6,
   "id": "7ccd7039",
   "metadata": {},
   "outputs": [
    {
     "data": {
      "text/plain": [
       "(3868396, 40)"
      ]
     },
     "execution_count": 6,
     "metadata": {},
     "output_type": "execute_result"
    }
   ],
   "source": [
    "full_data.shape"
   ]
  },
  {
   "cell_type": "code",
   "execution_count": 7,
   "id": "ef65f63a",
   "metadata": {},
   "outputs": [],
   "source": [
    "## Renaming to english\n",
    "columns_to_keep = [\n",
    "    'FECHA_ACTUALIZACION',\n",
    "    'ID_REGISTRO',\n",
    "    'SEXO',\n",
    "    'TIPO_PACIENTE',\n",
    "    'FECHA_INGRESO',\n",
    "    'FECHA_SINTOMAS',\n",
    "    'FECHA_DEF',\n",
    "    'INTUBADO',\n",
    "    'NEUMONIA',\n",
    "    'EDAD',\n",
    "    'EMBARAZO',\n",
    "    'DIABETES',\n",
    "    'EPOC',\n",
    "    'ASMA',\n",
    "    'INMUSUPR',\n",
    "    'HIPERTENSION',\n",
    "    'OTRA_COM',\n",
    "    'CARDIOVASCULAR',\n",
    "    'OBESIDAD',\n",
    "    'RENAL_CRONICA',\n",
    "    'TABAQUISMO',\n",
    "    'CLASIFICACION_FINAL',\n",
    "    'UCI'\n",
    "    ]\n",
    "\n",
    "full_data = full_data[columns_to_keep]\n",
    "\n",
    "column_translation = {\n",
    "    'FECHA_ACTUALIZACION': 'UPDATE_DATE',\n",
    "    'ID_REGISTRO': 'RECORD_ID',\n",
    "    'ORIGEN': 'SOURCE',\n",
    "    'SECTOR': 'HEALTH_SECTOR',\n",
    "    'ENTIDAD_UM': 'MEDICAL_UNIT_STATE',\n",
    "    'SEXO': 'SEX',\n",
    "    'ENTIDAD_NAC': 'BIRTH_STATE',\n",
    "    'ENTIDAD_RES': 'RESIDENCE_STATE',\n",
    "    'MUNICIPIO_RES': 'RESIDENCE_MUNICIPALITY',\n",
    "    'TIPO_PACIENTE': 'PATIENT_TYPE',\n",
    "    'FECHA_INGRESO': 'ADMISSION_DATE',\n",
    "    'FECHA_SINTOMAS': 'SYMPTOM_ONSET_DATE',\n",
    "    'FECHA_DEF': 'DEATH_DATE',\n",
    "    'INTUBADO': 'INTUBATED',\n",
    "    'NEUMONIA': 'PNEUMONIA',\n",
    "    'EDAD': 'AGE',\n",
    "    'NACIONALIDAD': 'NATIONALITY',\n",
    "    'EMBARAZO': 'PREGNANCY',\n",
    "    'HABLA_LENGUA_INDIG': 'SPEAKS_INDIGENOUS_LANGUAGE',\n",
    "    'INDIGENA': 'INDIGENOUS',\n",
    "    'DIABETES': 'DIABETES',\n",
    "    'EPOC': 'COPD',\n",
    "    'ASMA': 'ASTHMA',\n",
    "    'INMUSUPR': 'IMMUNOSUPPRESSED',\n",
    "    'HIPERTENSION': 'HYPERTENSION',\n",
    "    'OTRA_COM': 'OTHER_COMORBIDITY',\n",
    "    'CARDIOVASCULAR': 'CARDIOVASCULAR_DISEASE',\n",
    "    'OBESIDAD': 'OBESITY',\n",
    "    'RENAL_CRONICA': 'CHRONIC_KIDNEY_DISEASE',\n",
    "    'TABAQUISMO': 'SMOKING',\n",
    "    'OTRO_CASO': 'OTHER_CASE_CONTACT',\n",
    "    'TOMA_MUESTRA_LAB': 'LAB_SAMPLE_TAKEN',\n",
    "    'RESULTADO_LAB': 'LAB_RESULT',\n",
    "    'TOMA_MUESTRA_ANTIGENO': 'ANTIGEN_SAMPLE_TAKEN',\n",
    "    'RESULTADO_ANTIGENO': 'ANTIGEN_RESULT',\n",
    "    'CLASIFICACION_FINAL': 'FINAL_CLASSIFICATION',\n",
    "    'MIGRANTE': 'MIGRANT',\n",
    "    'PAIS_NACIONALIDAD': 'NATIONALITY_COUNTRY',\n",
    "    'PAIS_ORIGEN': 'ORIGIN_COUNTRY',\n",
    "    'UCI': 'ICU'\n",
    "}\n",
    "\n",
    "full_data.rename(columns=column_translation, inplace=True)"
   ]
  },
  {
   "cell_type": "code",
   "execution_count": 22,
   "id": "4f4cecf0",
   "metadata": {},
   "outputs": [],
   "source": [
    "covid_data = full_data[full_data[\"FINAL_CLASSIFICATION\"] == 3]"
   ]
  },
  {
   "cell_type": "code",
   "execution_count": 23,
   "id": "f5736002",
   "metadata": {},
   "outputs": [
    {
     "data": {
      "text/plain": [
       "(1479749, 23)"
      ]
     },
     "execution_count": 23,
     "metadata": {},
     "output_type": "execute_result"
    }
   ],
   "source": [
    "covid_data.shape"
   ]
  },
  {
   "cell_type": "code",
   "execution_count": 25,
   "id": "83ab5a79",
   "metadata": {},
   "outputs": [
    {
     "data": {
      "text/plain": [
       "Index(['UPDATE_DATE', 'RECORD_ID', 'SEX', 'PATIENT_TYPE', 'ADMISSION_DATE',\n",
       "       'SYMPTOM_ONSET_DATE', 'DEATH_DATE', 'INTUBATED', 'PNEUMONIA', 'AGE',\n",
       "       'PREGNANCY', 'DIABETES', 'COPD', 'ASTHMA', 'IMMUNOSUPPRESSED',\n",
       "       'HYPERTENSION', 'OTHER_COMORBIDITY', 'CARDIOVASCULAR_DISEASE',\n",
       "       'OBESITY', 'CHRONIC_KIDNEY_DISEASE', 'SMOKING', 'FINAL_CLASSIFICATION',\n",
       "       'ICU'],\n",
       "      dtype='object')"
      ]
     },
     "execution_count": 25,
     "metadata": {},
     "output_type": "execute_result"
    }
   ],
   "source": [
    "covid_data.columns"
   ]
  },
  {
   "cell_type": "code",
   "execution_count": 30,
   "id": "1611a735",
   "metadata": {},
   "outputs": [
    {
     "name": "stdout",
     "output_type": "stream",
     "text": [
      "Column: UPDATE_DATE has 1479749 NANS\n",
      "Column: RECORD_ID has 1479749 NANS\n",
      "Column: SEX has 0 NANS\n",
      "Column: PATIENT_TYPE has 0 NANS\n",
      "Column: ADMISSION_DATE has 1479749 NANS\n",
      "Column: SYMPTOM_ONSET_DATE has 1479749 NANS\n",
      "Column: DEATH_DATE has 1479749 NANS\n",
      "Column: INTUBATED has 1181319 NANS\n",
      "Column: PNEUMONIA has 3 NANS\n",
      "Column: AGE has 1476996 NANS\n",
      "Column: PREGNANCY has 751945 NANS\n",
      "Column: DIABETES has 4200 NANS\n",
      "Column: COPD has 3794 NANS\n",
      "Column: ASTHMA has 3738 NANS\n",
      "Column: IMMUNOSUPPRESSED has 3893 NANS\n",
      "Column: HYPERTENSION has 3924 NANS\n",
      "Column: OTHER_COMORBIDITY has 6964 NANS\n",
      "Column: CARDIOVASCULAR_DISEASE has 3837 NANS\n",
      "Column: OBESITY has 3736 NANS\n",
      "Column: CHRONIC_KIDNEY_DISEASE has 3778 NANS\n",
      "Column: SMOKING has 3985 NANS\n",
      "Column: FINAL_CLASSIFICATION has 1479749 NANS\n",
      "Column: ICU has 1181327 NANS\n"
     ]
    }
   ],
   "source": [
    "for column in covid_data.columns:\n",
    "    nons = covid_data[(covid_data[column] != 1) & (covid_data[column] != 2)]\n",
    "    print(f\"Column: {column} has {nons.shape[0]} NANS\")"
   ]
  },
  {
   "cell_type": "markdown",
   "id": "4a70fd29",
   "metadata": {},
   "source": [
    "We cant really work with Intubated, pregnancy, and ICU classified cases.\n"
   ]
  },
  {
   "cell_type": "code",
   "execution_count": 31,
   "id": "257501fb",
   "metadata": {},
   "outputs": [],
   "source": [
    "## Filters\n",
    "#covid_data_death = covid_data[covid_data[\"DEATH_DATE\"] != \"9999-99-99\"]\n",
    "covid_data = covid_data[covid_data[\"AGE\"] != 99]\n",
    "covid_data = covid_data[covid_data[\"PATIENT_TYPE\"] != 99]\n",
    "## set hospitalized and ambulatory as columns of 0s and 1s\n",
    "covid_data[\"FEMALE\"] = np.where(covid_data[\"SEX\"] == 1, 1, 0)\n",
    "covid_data[\"MALE\"] = np.where(covid_data[\"SEX\"] == 2, 1, 0)\n",
    "\n",
    "covid_data[\"HOSPITALIZED\"] = np.where(covid_data[\"PATIENT_TYPE\"] == 2, 1, 0)\n",
    "covid_data[\"AMBULATORY\"] = np.where(covid_data[\"PATIENT_TYPE\"] == 1, 1, 0)\n",
    "\n",
    "\n"
   ]
  },
  {
   "cell_type": "code",
   "execution_count": 35,
   "id": "2b080d91",
   "metadata": {},
   "outputs": [],
   "source": [
    "covid_data.to_csv(\"./data/full_data.csv\")"
   ]
  },
  {
   "cell_type": "code",
   "execution_count": 32,
   "id": "b7495f51",
   "metadata": {},
   "outputs": [
    {
     "data": {
      "text/plain": [
       "(1479639, 27)"
      ]
     },
     "execution_count": 32,
     "metadata": {},
     "output_type": "execute_result"
    }
   ],
   "source": [
    "covid_data.shape"
   ]
  },
  {
   "cell_type": "markdown",
   "id": "27e2f03a",
   "metadata": {},
   "source": [
    "Dictionaries\n",
    "##TODO generar diccionarios de lo que quieren decir las cosas en los datos"
   ]
  },
  {
   "cell_type": "code",
   "execution_count": 13,
   "id": "a359efb5",
   "metadata": {},
   "outputs": [
    {
     "data": {
      "text/plain": [
       "Index(['UPDATE_DATE', 'RECORD_ID', 'SEX', 'PATIENT_TYPE', 'ADMISSION_DATE',\n",
       "       'SYMPTOM_ONSET_DATE', 'DEATH_DATE', 'INTUBATED', 'PNEUMONIA', 'AGE',\n",
       "       'PREGNANCY', 'DIABETES', 'COPD', 'ASTHMA', 'IMMUNOSUPPRESSED',\n",
       "       'HYPERTENSION', 'OTHER_COMORBIDITY', 'CARDIOVASCULAR_DISEASE',\n",
       "       'OBESITY', 'CHRONIC_KIDNEY_DISEASE', 'SMOKING', 'FINAL_CLASSIFICATION',\n",
       "       'ICU'],\n",
       "      dtype='object')"
      ]
     },
     "execution_count": 13,
     "metadata": {},
     "output_type": "execute_result"
    }
   ],
   "source": [
    "covid_data_death.columns\n"
   ]
  },
  {
   "cell_type": "code",
   "execution_count": null,
   "id": "c722cdf5",
   "metadata": {},
   "outputs": [
    {
     "data": {
      "application/vnd.microsoft.datawrangler.viewer.v0+json": {
       "columns": [
        {
         "name": "index",
         "rawType": "int64",
         "type": "integer"
        },
        {
         "name": "SEX_1",
         "rawType": "bool",
         "type": "boolean"
        },
        {
         "name": "SEX_2",
         "rawType": "bool",
         "type": "boolean"
        }
       ],
       "conversionMethod": "pd.DataFrame",
       "ref": "a3886acc-c856-4188-a88f-6029c6b63c20",
       "rows": [
        [
         "138",
         "False",
         "True"
        ],
        [
         "159",
         "True",
         "False"
        ],
        [
         "209",
         "False",
         "True"
        ],
        [
         "24059",
         "False",
         "True"
        ],
        [
         "24798",
         "False",
         "True"
        ],
        [
         "24993",
         "False",
         "True"
        ],
        [
         "25239",
         "False",
         "True"
        ],
        [
         "26239",
         "False",
         "True"
        ],
        [
         "26575",
         "False",
         "True"
        ],
        [
         "26601",
         "False",
         "True"
        ],
        [
         "26846",
         "False",
         "True"
        ],
        [
         "27135",
         "True",
         "False"
        ],
        [
         "27361",
         "True",
         "False"
        ],
        [
         "27435",
         "False",
         "True"
        ],
        [
         "27555",
         "True",
         "False"
        ],
        [
         "27560",
         "True",
         "False"
        ],
        [
         "27566",
         "False",
         "True"
        ],
        [
         "27571",
         "False",
         "True"
        ],
        [
         "27584",
         "False",
         "True"
        ],
        [
         "27619",
         "False",
         "True"
        ],
        [
         "27628",
         "False",
         "True"
        ],
        [
         "27635",
         "True",
         "False"
        ],
        [
         "27642",
         "False",
         "True"
        ],
        [
         "27802",
         "True",
         "False"
        ],
        [
         "27984",
         "False",
         "True"
        ],
        [
         "27988",
         "True",
         "False"
        ],
        [
         "28056",
         "False",
         "True"
        ],
        [
         "28157",
         "False",
         "True"
        ],
        [
         "28259",
         "True",
         "False"
        ],
        [
         "28275",
         "False",
         "True"
        ],
        [
         "28328",
         "True",
         "False"
        ],
        [
         "28447",
         "False",
         "True"
        ],
        [
         "28502",
         "True",
         "False"
        ],
        [
         "28534",
         "True",
         "False"
        ],
        [
         "28828",
         "False",
         "True"
        ],
        [
         "28834",
         "False",
         "True"
        ],
        [
         "28843",
         "False",
         "True"
        ],
        [
         "28844",
         "False",
         "True"
        ],
        [
         "28875",
         "True",
         "False"
        ],
        [
         "28892",
         "False",
         "True"
        ],
        [
         "28894",
         "False",
         "True"
        ],
        [
         "28915",
         "False",
         "True"
        ],
        [
         "28924",
         "True",
         "False"
        ],
        [
         "28986",
         "False",
         "True"
        ],
        [
         "29040",
         "False",
         "True"
        ],
        [
         "29045",
         "False",
         "True"
        ],
        [
         "29206",
         "False",
         "True"
        ],
        [
         "29240",
         "False",
         "True"
        ],
        [
         "29254",
         "False",
         "True"
        ],
        [
         "29343",
         "False",
         "True"
        ]
       ],
       "shape": {
        "columns": 2,
        "rows": 147241
       }
      },
      "text/html": [
       "<div>\n",
       "<style scoped>\n",
       "    .dataframe tbody tr th:only-of-type {\n",
       "        vertical-align: middle;\n",
       "    }\n",
       "\n",
       "    .dataframe tbody tr th {\n",
       "        vertical-align: top;\n",
       "    }\n",
       "\n",
       "    .dataframe thead th {\n",
       "        text-align: right;\n",
       "    }\n",
       "</style>\n",
       "<table border=\"1\" class=\"dataframe\">\n",
       "  <thead>\n",
       "    <tr style=\"text-align: right;\">\n",
       "      <th></th>\n",
       "      <th>SEX_1</th>\n",
       "      <th>SEX_2</th>\n",
       "    </tr>\n",
       "  </thead>\n",
       "  <tbody>\n",
       "    <tr>\n",
       "      <th>138</th>\n",
       "      <td>False</td>\n",
       "      <td>True</td>\n",
       "    </tr>\n",
       "    <tr>\n",
       "      <th>159</th>\n",
       "      <td>True</td>\n",
       "      <td>False</td>\n",
       "    </tr>\n",
       "    <tr>\n",
       "      <th>209</th>\n",
       "      <td>False</td>\n",
       "      <td>True</td>\n",
       "    </tr>\n",
       "    <tr>\n",
       "      <th>24059</th>\n",
       "      <td>False</td>\n",
       "      <td>True</td>\n",
       "    </tr>\n",
       "    <tr>\n",
       "      <th>24798</th>\n",
       "      <td>False</td>\n",
       "      <td>True</td>\n",
       "    </tr>\n",
       "    <tr>\n",
       "      <th>...</th>\n",
       "      <td>...</td>\n",
       "      <td>...</td>\n",
       "    </tr>\n",
       "    <tr>\n",
       "      <th>3868102</th>\n",
       "      <td>True</td>\n",
       "      <td>False</td>\n",
       "    </tr>\n",
       "    <tr>\n",
       "      <th>3868172</th>\n",
       "      <td>False</td>\n",
       "      <td>True</td>\n",
       "    </tr>\n",
       "    <tr>\n",
       "      <th>3868327</th>\n",
       "      <td>False</td>\n",
       "      <td>True</td>\n",
       "    </tr>\n",
       "    <tr>\n",
       "      <th>3868339</th>\n",
       "      <td>True</td>\n",
       "      <td>False</td>\n",
       "    </tr>\n",
       "    <tr>\n",
       "      <th>3868389</th>\n",
       "      <td>True</td>\n",
       "      <td>False</td>\n",
       "    </tr>\n",
       "  </tbody>\n",
       "</table>\n",
       "<p>147241 rows × 2 columns</p>\n",
       "</div>"
      ],
      "text/plain": [
       "         SEX_1  SEX_2\n",
       "138      False   True\n",
       "159       True  False\n",
       "209      False   True\n",
       "24059    False   True\n",
       "24798    False   True\n",
       "...        ...    ...\n",
       "3868102   True  False\n",
       "3868172  False   True\n",
       "3868327  False   True\n",
       "3868339   True  False\n",
       "3868389   True  False\n",
       "\n",
       "[147241 rows x 2 columns]"
      ]
     },
     "execution_count": 14,
     "metadata": {},
     "output_type": "execute_result"
    }
   ],
   "source": [
    "pd.get_dummies(covid_data_death[\"SEX\"], prefix = \"SEX\")"
   ]
  },
  {
   "cell_type": "code",
   "execution_count": null,
   "id": "7fc67284",
   "metadata": {},
   "outputs": [],
   "source": []
  },
  {
   "cell_type": "code",
   "execution_count": null,
   "id": "f3e30f31",
   "metadata": {},
   "outputs": [],
   "source": []
  },
  {
   "cell_type": "markdown",
   "id": "d2dc83da",
   "metadata": {},
   "source": [
    "## Making the data work as in the paper\n"
   ]
  },
  {
   "cell_type": "code",
   "execution_count": 2,
   "id": "7083ff65",
   "metadata": {},
   "outputs": [
    {
     "data": {
      "application/vnd.microsoft.datawrangler.viewer.v0+json": {
       "columns": [
        {
         "name": "index",
         "rawType": "int64",
         "type": "integer"
        },
        {
         "name": "Unnamed: 0",
         "rawType": "int64",
         "type": "integer"
        },
        {
         "name": "UPDATE_DATE",
         "rawType": "object",
         "type": "string"
        },
        {
         "name": "RECORD_ID",
         "rawType": "object",
         "type": "string"
        },
        {
         "name": "SEX",
         "rawType": "int64",
         "type": "integer"
        },
        {
         "name": "PATIENT_TYPE",
         "rawType": "int64",
         "type": "integer"
        },
        {
         "name": "ADMISSION_DATE",
         "rawType": "object",
         "type": "string"
        },
        {
         "name": "SYMPTOM_ONSET_DATE",
         "rawType": "object",
         "type": "string"
        },
        {
         "name": "DEATH_DATE",
         "rawType": "object",
         "type": "string"
        },
        {
         "name": "INTUBATED",
         "rawType": "int64",
         "type": "integer"
        },
        {
         "name": "PNEUMONIA",
         "rawType": "int64",
         "type": "integer"
        },
        {
         "name": "AGE",
         "rawType": "int64",
         "type": "integer"
        },
        {
         "name": "PREGNANCY",
         "rawType": "int64",
         "type": "integer"
        },
        {
         "name": "DIABETES",
         "rawType": "int64",
         "type": "integer"
        },
        {
         "name": "COPD",
         "rawType": "int64",
         "type": "integer"
        },
        {
         "name": "ASTHMA",
         "rawType": "int64",
         "type": "integer"
        },
        {
         "name": "IMMUNOSUPPRESSED",
         "rawType": "int64",
         "type": "integer"
        },
        {
         "name": "HYPERTENSION",
         "rawType": "int64",
         "type": "integer"
        },
        {
         "name": "OTHER_COMORBIDITY",
         "rawType": "int64",
         "type": "integer"
        },
        {
         "name": "CARDIOVASCULAR_DISEASE",
         "rawType": "int64",
         "type": "integer"
        },
        {
         "name": "OBESITY",
         "rawType": "int64",
         "type": "integer"
        },
        {
         "name": "CHRONIC_KIDNEY_DISEASE",
         "rawType": "int64",
         "type": "integer"
        },
        {
         "name": "SMOKING",
         "rawType": "int64",
         "type": "integer"
        },
        {
         "name": "FINAL_CLASSIFICATION",
         "rawType": "int64",
         "type": "integer"
        },
        {
         "name": "ICU",
         "rawType": "int64",
         "type": "integer"
        },
        {
         "name": "FEMALE",
         "rawType": "int64",
         "type": "integer"
        },
        {
         "name": "MALE",
         "rawType": "int64",
         "type": "integer"
        },
        {
         "name": "HOSPITALIZED",
         "rawType": "int64",
         "type": "integer"
        },
        {
         "name": "AMBULATORY",
         "rawType": "int64",
         "type": "integer"
        }
       ],
       "conversionMethod": "pd.DataFrame",
       "ref": "9f651ffb-5f93-4ca6-805b-e848380b1337",
       "rows": [
        [
         "0",
         "0",
         "2021-10-31",
         "z4d6fe",
         "1",
         "1",
         "2020-12-06",
         "2020-11-30",
         "9999-99-99",
         "97",
         "2",
         "55",
         "2",
         "1",
         "2",
         "2",
         "2",
         "2",
         "2",
         "2",
         "2",
         "2",
         "2",
         "3",
         "97",
         "1",
         "0",
         "0",
         "1"
        ],
        [
         "1",
         "3",
         "2021-10-31",
         "z3bf80",
         "2",
         "1",
         "2020-07-28",
         "2020-07-20",
         "9999-99-99",
         "97",
         "2",
         "35",
         "97",
         "2",
         "2",
         "2",
         "2",
         "2",
         "2",
         "2",
         "2",
         "2",
         "2",
         "3",
         "97",
         "0",
         "1",
         "0",
         "1"
        ],
        [
         "2",
         "15",
         "2021-10-31",
         "z54912",
         "1",
         "1",
         "2020-06-12",
         "2020-06-10",
         "9999-99-99",
         "97",
         "2",
         "56",
         "2",
         "1",
         "2",
         "2",
         "2",
         "2",
         "2",
         "2",
         "2",
         "2",
         "2",
         "3",
         "97",
         "1",
         "0",
         "0",
         "1"
        ],
        [
         "3",
         "18",
         "2021-10-31",
         "z552ac",
         "1",
         "1",
         "2020-06-02",
         "2020-05-30",
         "9999-99-99",
         "97",
         "2",
         "58",
         "2",
         "1",
         "2",
         "2",
         "2",
         "2",
         "2",
         "2",
         "2",
         "2",
         "2",
         "3",
         "97",
         "1",
         "0",
         "0",
         "1"
        ],
        [
         "4",
         "20",
         "2021-10-31",
         "z59345",
         "2",
         "1",
         "2020-07-01",
         "2020-06-30",
         "9999-99-99",
         "97",
         "2",
         "37",
         "97",
         "2",
         "2",
         "2",
         "2",
         "2",
         "2",
         "2",
         "2",
         "2",
         "2",
         "3",
         "97",
         "0",
         "1",
         "0",
         "1"
        ]
       ],
       "shape": {
        "columns": 28,
        "rows": 5
       }
      },
      "text/html": [
       "<div>\n",
       "<style scoped>\n",
       "    .dataframe tbody tr th:only-of-type {\n",
       "        vertical-align: middle;\n",
       "    }\n",
       "\n",
       "    .dataframe tbody tr th {\n",
       "        vertical-align: top;\n",
       "    }\n",
       "\n",
       "    .dataframe thead th {\n",
       "        text-align: right;\n",
       "    }\n",
       "</style>\n",
       "<table border=\"1\" class=\"dataframe\">\n",
       "  <thead>\n",
       "    <tr style=\"text-align: right;\">\n",
       "      <th></th>\n",
       "      <th>Unnamed: 0</th>\n",
       "      <th>UPDATE_DATE</th>\n",
       "      <th>RECORD_ID</th>\n",
       "      <th>SEX</th>\n",
       "      <th>PATIENT_TYPE</th>\n",
       "      <th>ADMISSION_DATE</th>\n",
       "      <th>SYMPTOM_ONSET_DATE</th>\n",
       "      <th>DEATH_DATE</th>\n",
       "      <th>INTUBATED</th>\n",
       "      <th>PNEUMONIA</th>\n",
       "      <th>...</th>\n",
       "      <th>CARDIOVASCULAR_DISEASE</th>\n",
       "      <th>OBESITY</th>\n",
       "      <th>CHRONIC_KIDNEY_DISEASE</th>\n",
       "      <th>SMOKING</th>\n",
       "      <th>FINAL_CLASSIFICATION</th>\n",
       "      <th>ICU</th>\n",
       "      <th>FEMALE</th>\n",
       "      <th>MALE</th>\n",
       "      <th>HOSPITALIZED</th>\n",
       "      <th>AMBULATORY</th>\n",
       "    </tr>\n",
       "  </thead>\n",
       "  <tbody>\n",
       "    <tr>\n",
       "      <th>0</th>\n",
       "      <td>0</td>\n",
       "      <td>2021-10-31</td>\n",
       "      <td>z4d6fe</td>\n",
       "      <td>1</td>\n",
       "      <td>1</td>\n",
       "      <td>2020-12-06</td>\n",
       "      <td>2020-11-30</td>\n",
       "      <td>9999-99-99</td>\n",
       "      <td>97</td>\n",
       "      <td>2</td>\n",
       "      <td>...</td>\n",
       "      <td>2</td>\n",
       "      <td>2</td>\n",
       "      <td>2</td>\n",
       "      <td>2</td>\n",
       "      <td>3</td>\n",
       "      <td>97</td>\n",
       "      <td>1</td>\n",
       "      <td>0</td>\n",
       "      <td>0</td>\n",
       "      <td>1</td>\n",
       "    </tr>\n",
       "    <tr>\n",
       "      <th>1</th>\n",
       "      <td>3</td>\n",
       "      <td>2021-10-31</td>\n",
       "      <td>z3bf80</td>\n",
       "      <td>2</td>\n",
       "      <td>1</td>\n",
       "      <td>2020-07-28</td>\n",
       "      <td>2020-07-20</td>\n",
       "      <td>9999-99-99</td>\n",
       "      <td>97</td>\n",
       "      <td>2</td>\n",
       "      <td>...</td>\n",
       "      <td>2</td>\n",
       "      <td>2</td>\n",
       "      <td>2</td>\n",
       "      <td>2</td>\n",
       "      <td>3</td>\n",
       "      <td>97</td>\n",
       "      <td>0</td>\n",
       "      <td>1</td>\n",
       "      <td>0</td>\n",
       "      <td>1</td>\n",
       "    </tr>\n",
       "    <tr>\n",
       "      <th>2</th>\n",
       "      <td>15</td>\n",
       "      <td>2021-10-31</td>\n",
       "      <td>z54912</td>\n",
       "      <td>1</td>\n",
       "      <td>1</td>\n",
       "      <td>2020-06-12</td>\n",
       "      <td>2020-06-10</td>\n",
       "      <td>9999-99-99</td>\n",
       "      <td>97</td>\n",
       "      <td>2</td>\n",
       "      <td>...</td>\n",
       "      <td>2</td>\n",
       "      <td>2</td>\n",
       "      <td>2</td>\n",
       "      <td>2</td>\n",
       "      <td>3</td>\n",
       "      <td>97</td>\n",
       "      <td>1</td>\n",
       "      <td>0</td>\n",
       "      <td>0</td>\n",
       "      <td>1</td>\n",
       "    </tr>\n",
       "    <tr>\n",
       "      <th>3</th>\n",
       "      <td>18</td>\n",
       "      <td>2021-10-31</td>\n",
       "      <td>z552ac</td>\n",
       "      <td>1</td>\n",
       "      <td>1</td>\n",
       "      <td>2020-06-02</td>\n",
       "      <td>2020-05-30</td>\n",
       "      <td>9999-99-99</td>\n",
       "      <td>97</td>\n",
       "      <td>2</td>\n",
       "      <td>...</td>\n",
       "      <td>2</td>\n",
       "      <td>2</td>\n",
       "      <td>2</td>\n",
       "      <td>2</td>\n",
       "      <td>3</td>\n",
       "      <td>97</td>\n",
       "      <td>1</td>\n",
       "      <td>0</td>\n",
       "      <td>0</td>\n",
       "      <td>1</td>\n",
       "    </tr>\n",
       "    <tr>\n",
       "      <th>4</th>\n",
       "      <td>20</td>\n",
       "      <td>2021-10-31</td>\n",
       "      <td>z59345</td>\n",
       "      <td>2</td>\n",
       "      <td>1</td>\n",
       "      <td>2020-07-01</td>\n",
       "      <td>2020-06-30</td>\n",
       "      <td>9999-99-99</td>\n",
       "      <td>97</td>\n",
       "      <td>2</td>\n",
       "      <td>...</td>\n",
       "      <td>2</td>\n",
       "      <td>2</td>\n",
       "      <td>2</td>\n",
       "      <td>2</td>\n",
       "      <td>3</td>\n",
       "      <td>97</td>\n",
       "      <td>0</td>\n",
       "      <td>1</td>\n",
       "      <td>0</td>\n",
       "      <td>1</td>\n",
       "    </tr>\n",
       "  </tbody>\n",
       "</table>\n",
       "<p>5 rows × 28 columns</p>\n",
       "</div>"
      ],
      "text/plain": [
       "   Unnamed: 0 UPDATE_DATE RECORD_ID  SEX  PATIENT_TYPE ADMISSION_DATE  \\\n",
       "0           0  2021-10-31    z4d6fe    1             1     2020-12-06   \n",
       "1           3  2021-10-31    z3bf80    2             1     2020-07-28   \n",
       "2          15  2021-10-31    z54912    1             1     2020-06-12   \n",
       "3          18  2021-10-31    z552ac    1             1     2020-06-02   \n",
       "4          20  2021-10-31    z59345    2             1     2020-07-01   \n",
       "\n",
       "  SYMPTOM_ONSET_DATE  DEATH_DATE  INTUBATED  PNEUMONIA  ...  \\\n",
       "0         2020-11-30  9999-99-99         97          2  ...   \n",
       "1         2020-07-20  9999-99-99         97          2  ...   \n",
       "2         2020-06-10  9999-99-99         97          2  ...   \n",
       "3         2020-05-30  9999-99-99         97          2  ...   \n",
       "4         2020-06-30  9999-99-99         97          2  ...   \n",
       "\n",
       "   CARDIOVASCULAR_DISEASE  OBESITY  CHRONIC_KIDNEY_DISEASE  SMOKING  \\\n",
       "0                       2        2                       2        2   \n",
       "1                       2        2                       2        2   \n",
       "2                       2        2                       2        2   \n",
       "3                       2        2                       2        2   \n",
       "4                       2        2                       2        2   \n",
       "\n",
       "   FINAL_CLASSIFICATION  ICU  FEMALE  MALE  HOSPITALIZED  AMBULATORY  \n",
       "0                     3   97       1     0             0           1  \n",
       "1                     3   97       0     1             0           1  \n",
       "2                     3   97       1     0             0           1  \n",
       "3                     3   97       1     0             0           1  \n",
       "4                     3   97       0     1             0           1  \n",
       "\n",
       "[5 rows x 28 columns]"
      ]
     },
     "execution_count": 2,
     "metadata": {},
     "output_type": "execute_result"
    }
   ],
   "source": [
    "data = pd.read_csv(\"./data/full_data.csv\")\n",
    "data.head()"
   ]
  },
  {
   "cell_type": "code",
   "execution_count": 3,
   "id": "0c93b273",
   "metadata": {},
   "outputs": [
    {
     "data": {
      "text/plain": [
       "<Axes: title={'center': 'Age group distribution'}, xlabel='AGE_GROUP'>"
      ]
     },
     "execution_count": 3,
     "metadata": {},
     "output_type": "execute_result"
    },
    {
     "data": {
      "image/png": "[encoded data removed]",
      "text/plain": [
       "<Figure size 640x480 with 1 Axes>"
      ]
     },
     "metadata": {},
     "output_type": "display_data"
    }
   ],
   "source": [
    "#stratifying by age\n",
    "age_bins = [0, 15, 60, 80,100]\n",
    "age_labels = [\n",
    "    \"0-14\",\n",
    "    \"15-59\",\n",
    "    \"60-79\",\n",
    "    \"80+\"\n",
    "]\n",
    "data[\"AGE_GROUP\"] = pd.cut(data[\"AGE\"], bins=age_bins, labels=age_labels, right=False)\n",
    "data[\"AGE_GROUP\"].value_counts()\n",
    "data[\"AGE_GROUP\"].value_counts().plot(kind=\"bar\", title=\"Age group distribution\")"
   ]
  },
  {
   "cell_type": "code",
   "execution_count": 11,
   "id": "4e6aa053",
   "metadata": {},
   "outputs": [
    {
     "name": "stderr",
     "output_type": "stream",
     "text": [
      "/var/folders/_f/sc03zbpx4wnbdctrkv1pq2lh0000gn/T/ipykernel_13810/1482217563.py:6: FutureWarning: The default of observed=False is deprecated and will be changed to True in a future version of pandas. Pass observed=False to retain current behavior or observed=True to adopt the future default and silence this warning.\n",
      "  result = data.groupby([\"AGE_GROUP\", \"SYMPTOM_ONSET_DATE\"]).size().reset_index(name=\"onset\")\n",
      "/var/folders/_f/sc03zbpx4wnbdctrkv1pq2lh0000gn/T/ipykernel_13810/1482217563.py:9: FutureWarning: The default of observed=False is deprecated and will be changed to True in a future version of pandas. Pass observed=False to retain current behavior or observed=True to adopt the future default and silence this warning.\n",
      "  reported = data.groupby([\"AGE_GROUP\", \"ADMISSION_DATE\"]).size().reset_index(name=\"reported\")\n"
     ]
    },
    {
     "data": {
      "application/vnd.microsoft.datawrangler.viewer.v0+json": {
       "columns": [
        {
         "name": "index",
         "rawType": "int64",
         "type": "integer"
        },
        {
         "name": "AGE_GROUP",
         "rawType": "category",
         "type": "unknown"
        },
        {
         "name": "date",
         "rawType": "datetime64[ns]",
         "type": "datetime"
        },
        {
         "name": "onset",
         "rawType": "float64",
         "type": "float"
        },
        {
         "name": "reported",
         "rawType": "float64",
         "type": "float"
        }
       ],
       "conversionMethod": "pd.DataFrame",
       "ref": "5160a9e5-6f37-4ea3-aa60-f7fcd9a345d4",
       "rows": [
        [
         "0",
         "0-14",
         "2020-02-19 00:00:00",
         "0.0",
         null
        ],
        [
         "1",
         "0-14",
         "2020-02-22 00:00:00",
         "0.0",
         null
        ],
        [
         "2",
         "0-14",
         "2020-02-23 00:00:00",
         "0.0",
         null
        ],
        [
         "3",
         "0-14",
         "2020-02-25 00:00:00",
         "0.0",
         null
        ],
        [
         "4",
         "0-14",
         "2020-02-26 00:00:00",
         "0.0",
         null
        ],
        [
         "5",
         "0-14",
         "2020-02-27 00:00:00",
         "0.0",
         "0.0"
        ],
        [
         "6",
         "0-14",
         "2020-02-28 00:00:00",
         "0.0",
         "0.0"
        ],
        [
         "7",
         "0-14",
         "2020-02-29 00:00:00",
         "0.0",
         "0.0"
        ],
        [
         "8",
         "0-14",
         "2020-03-01 00:00:00",
         "0.0",
         null
        ],
        [
         "9",
         "0-14",
         "2020-03-02 00:00:00",
         "0.0",
         "0.0"
        ],
        [
         "10",
         "0-14",
         "2020-03-03 00:00:00",
         "0.0",
         null
        ],
        [
         "11",
         "0-14",
         "2020-03-04 00:00:00",
         "0.0",
         "0.0"
        ],
        [
         "12",
         "0-14",
         "2020-03-05 00:00:00",
         "0.0",
         "0.0"
        ],
        [
         "13",
         "0-14",
         "2020-03-06 00:00:00",
         "0.0",
         null
        ],
        [
         "14",
         "0-14",
         "2020-03-07 00:00:00",
         "0.0",
         "0.0"
        ],
        [
         "15",
         "0-14",
         "2020-03-08 00:00:00",
         "0.0",
         "0.0"
        ],
        [
         "16",
         "0-14",
         "2020-03-09 00:00:00",
         "1.0",
         "0.0"
        ],
        [
         "17",
         "0-14",
         "2020-03-10 00:00:00",
         "0.0",
         "0.0"
        ],
        [
         "18",
         "0-14",
         "2020-03-11 00:00:00",
         "0.0",
         "0.0"
        ],
        [
         "19",
         "0-14",
         "2020-03-12 00:00:00",
         "1.0",
         "0.0"
        ],
        [
         "20",
         "0-14",
         "2020-03-13 00:00:00",
         "2.0",
         "1.0"
        ],
        [
         "21",
         "0-14",
         "2020-03-14 00:00:00",
         "1.0",
         "2.0"
        ],
        [
         "22",
         "0-14",
         "2020-03-15 00:00:00",
         "1.0",
         "0.0"
        ],
        [
         "23",
         "0-14",
         "2020-03-16 00:00:00",
         "1.0",
         "2.0"
        ],
        [
         "24",
         "0-14",
         "2020-03-17 00:00:00",
         "5.0",
         "0.0"
        ],
        [
         "25",
         "0-14",
         "2020-03-18 00:00:00",
         "2.0",
         "1.0"
        ],
        [
         "26",
         "0-14",
         "2020-03-19 00:00:00",
         "0.0",
         "6.0"
        ],
        [
         "27",
         "0-14",
         "2020-03-20 00:00:00",
         "1.0",
         "0.0"
        ],
        [
         "28",
         "0-14",
         "2020-03-21 00:00:00",
         "0.0",
         "0.0"
        ],
        [
         "29",
         "0-14",
         "2020-03-22 00:00:00",
         "2.0",
         "0.0"
        ],
        [
         "30",
         "0-14",
         "2020-03-23 00:00:00",
         "3.0",
         "0.0"
        ],
        [
         "31",
         "0-14",
         "2020-03-24 00:00:00",
         "5.0",
         "1.0"
        ],
        [
         "32",
         "0-14",
         "2020-03-25 00:00:00",
         "4.0",
         "4.0"
        ],
        [
         "33",
         "0-14",
         "2020-03-26 00:00:00",
         "1.0",
         "1.0"
        ],
        [
         "34",
         "0-14",
         "2020-03-27 00:00:00",
         "5.0",
         "5.0"
        ],
        [
         "35",
         "0-14",
         "2020-03-28 00:00:00",
         "4.0",
         "0.0"
        ],
        [
         "36",
         "0-14",
         "2020-03-29 00:00:00",
         "2.0",
         "2.0"
        ],
        [
         "37",
         "0-14",
         "2020-03-30 00:00:00",
         "3.0",
         "9.0"
        ],
        [
         "38",
         "0-14",
         "2020-03-31 00:00:00",
         "0.0",
         "0.0"
        ],
        [
         "39",
         "0-14",
         "2020-04-01 00:00:00",
         "3.0",
         "3.0"
        ],
        [
         "40",
         "0-14",
         "2020-04-02 00:00:00",
         "3.0",
         "2.0"
        ],
        [
         "41",
         "0-14",
         "2020-04-03 00:00:00",
         "4.0",
         "1.0"
        ],
        [
         "42",
         "0-14",
         "2020-04-04 00:00:00",
         "2.0",
         "2.0"
        ],
        [
         "43",
         "0-14",
         "2020-04-05 00:00:00",
         "5.0",
         "3.0"
        ],
        [
         "44",
         "0-14",
         "2020-04-06 00:00:00",
         "8.0",
         "7.0"
        ],
        [
         "45",
         "0-14",
         "2020-04-07 00:00:00",
         "1.0",
         "9.0"
        ],
        [
         "46",
         "0-14",
         "2020-04-08 00:00:00",
         "4.0",
         "1.0"
        ],
        [
         "47",
         "0-14",
         "2020-04-09 00:00:00",
         "6.0",
         "6.0"
        ],
        [
         "48",
         "0-14",
         "2020-04-10 00:00:00",
         "12.0",
         "3.0"
        ],
        [
         "49",
         "0-14",
         "2020-04-11 00:00:00",
         "13.0",
         "3.0"
        ]
       ],
       "shape": {
        "columns": 4,
        "rows": 1790
       }
      },
      "text/html": [
       "<div>\n",
       "<style scoped>\n",
       "    .dataframe tbody tr th:only-of-type {\n",
       "        vertical-align: middle;\n",
       "    }\n",
       "\n",
       "    .dataframe tbody tr th {\n",
       "        vertical-align: top;\n",
       "    }\n",
       "\n",
       "    .dataframe thead th {\n",
       "        text-align: right;\n",
       "    }\n",
       "</style>\n",
       "<table border=\"1\" class=\"dataframe\">\n",
       "  <thead>\n",
       "    <tr style=\"text-align: right;\">\n",
       "      <th></th>\n",
       "      <th>AGE_GROUP</th>\n",
       "      <th>date</th>\n",
       "      <th>onset</th>\n",
       "      <th>reported</th>\n",
       "    </tr>\n",
       "  </thead>\n",
       "  <tbody>\n",
       "    <tr>\n",
       "      <th>0</th>\n",
       "      <td>0-14</td>\n",
       "      <td>2020-02-19</td>\n",
       "      <td>0.0</td>\n",
       "      <td>NaN</td>\n",
       "    </tr>\n",
       "    <tr>\n",
       "      <th>1</th>\n",
       "      <td>0-14</td>\n",
       "      <td>2020-02-22</td>\n",
       "      <td>0.0</td>\n",
       "      <td>NaN</td>\n",
       "    </tr>\n",
       "    <tr>\n",
       "      <th>2</th>\n",
       "      <td>0-14</td>\n",
       "      <td>2020-02-23</td>\n",
       "      <td>0.0</td>\n",
       "      <td>NaN</td>\n",
       "    </tr>\n",
       "    <tr>\n",
       "      <th>3</th>\n",
       "      <td>0-14</td>\n",
       "      <td>2020-02-25</td>\n",
       "      <td>0.0</td>\n",
       "      <td>NaN</td>\n",
       "    </tr>\n",
       "    <tr>\n",
       "      <th>4</th>\n",
       "      <td>0-14</td>\n",
       "      <td>2020-02-26</td>\n",
       "      <td>0.0</td>\n",
       "      <td>NaN</td>\n",
       "    </tr>\n",
       "    <tr>\n",
       "      <th>...</th>\n",
       "      <td>...</td>\n",
       "      <td>...</td>\n",
       "      <td>...</td>\n",
       "      <td>...</td>\n",
       "    </tr>\n",
       "    <tr>\n",
       "      <th>1785</th>\n",
       "      <td>0</td>\n",
       "      <td>2021-02-18</td>\n",
       "      <td>NaN</td>\n",
       "      <td>0.0</td>\n",
       "    </tr>\n",
       "    <tr>\n",
       "      <th>1786</th>\n",
       "      <td>0</td>\n",
       "      <td>2021-03-29</td>\n",
       "      <td>NaN</td>\n",
       "      <td>0.0</td>\n",
       "    </tr>\n",
       "    <tr>\n",
       "      <th>1787</th>\n",
       "      <td>0</td>\n",
       "      <td>2021-03-30</td>\n",
       "      <td>NaN</td>\n",
       "      <td>0.0</td>\n",
       "    </tr>\n",
       "    <tr>\n",
       "      <th>1788</th>\n",
       "      <td>0</td>\n",
       "      <td>2021-04-10</td>\n",
       "      <td>NaN</td>\n",
       "      <td>0.0</td>\n",
       "    </tr>\n",
       "    <tr>\n",
       "      <th>1789</th>\n",
       "      <td>0</td>\n",
       "      <td>2021-09-06</td>\n",
       "      <td>NaN</td>\n",
       "      <td>0.0</td>\n",
       "    </tr>\n",
       "  </tbody>\n",
       "</table>\n",
       "<p>1790 rows × 4 columns</p>\n",
       "</div>"
      ],
      "text/plain": [
       "     AGE_GROUP       date  onset  reported\n",
       "0         0-14 2020-02-19    0.0       NaN\n",
       "1         0-14 2020-02-22    0.0       NaN\n",
       "2         0-14 2020-02-23    0.0       NaN\n",
       "3         0-14 2020-02-25    0.0       NaN\n",
       "4         0-14 2020-02-26    0.0       NaN\n",
       "...        ...        ...    ...       ...\n",
       "1785         0 2021-02-18    NaN       0.0\n",
       "1786         0 2021-03-29    NaN       0.0\n",
       "1787         0 2021-03-30    NaN       0.0\n",
       "1788         0 2021-04-10    NaN       0.0\n",
       "1789         0 2021-09-06    NaN       0.0\n",
       "\n",
       "[1790 rows x 4 columns]"
      ]
     },
     "execution_count": 11,
     "metadata": {},
     "output_type": "execute_result"
    }
   ],
   "source": [
    "#getting a count of symptoms and cases reported per date per age group\n",
    "data[\"SYMPTOM_ONSET_DATE\"] = pd.to_datetime(data[\"SYMPTOM_ONSET_DATE\"], format=\"%Y-%m-%d\", errors=\"coerce\")\n",
    "data[\"ADMISSION_DATE\"] = pd.to_datetime(data[\"ADMISSION_DATE\"], format=\"%Y-%m-%d\", errors=\"coerce\")\n",
    "\n",
    "# Grouping by age group and date, and counting cases\n",
    "result = data.groupby([\"AGE_GROUP\", \"SYMPTOM_ONSET_DATE\"]).size().reset_index(name=\"onset\")\n",
    "result = result.rename(columns={\"SYMPTOM_ONSET_DATE\": \"date\"})\n",
    "\n",
    "reported = data.groupby([\"AGE_GROUP\", \"ADMISSION_DATE\"]).size().reset_index(name=\"reported\")\n",
    "reported = reported.rename(columns={\"ADMISSION_DATE\": \"date\"})\n",
    "\n",
    "# Merging the two dataframes\n",
    "final_df = pd.merge(result, reported, on=[\"AGE_GROUP\", \"date\"], how=\"outer\")\n",
    "\n",
    "final_df\n",
    "\n"
   ]
  },
  {
   "cell_type": "code",
   "execution_count": 15,
   "id": "d1c020c0",
   "metadata": {},
   "outputs": [],
   "source": [
    "#set missing values to 0\n",
    "final_df = final_df.fillna(0)"
   ]
  },
  {
   "cell_type": "code",
   "execution_count": 17,
   "id": "9da47b3c",
   "metadata": {},
   "outputs": [],
   "source": [
    "final_df.to_csv(\"./data/age_group_data.csv\", index=False)"
   ]
  },
  {
   "cell_type": "code",
   "execution_count": null,
   "id": "5b946ce8",
   "metadata": {},
   "outputs": [],
   "source": []
  }
 ],
 "metadata": {
  "kernelspec": {
   "display_name": "Python 3",
   "language": "python",
   "name": "python3"
  },
  "language_info": {
   "codemirror_mode": {
    "name": "ipython",
    "version": 3
   },
   "file_extension": ".py",
   "mimetype": "text/x-python",
   "name": "python",
   "nbconvert_exporter": "python",
   "pygments_lexer": "ipython3",
   "version": "3.9.6"
  }
 },
 "nbformat": 4,
 "nbformat_minor": 5
}
